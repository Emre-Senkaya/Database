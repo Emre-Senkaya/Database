{
 "cells": [
  {
   "cell_type": "code",
   "execution_count": 74,
   "id": "c5943e90-b5af-4d29-a5dd-33bff47c93fb",
   "metadata": {},
   "outputs": [],
   "source": [
    "import polars as pl"
   ]
  },
  {
   "cell_type": "code",
   "execution_count": 75,
   "id": "291cb125-f924-468e-83b7-e45c4c2c98ad",
   "metadata": {},
   "outputs": [],
   "source": [
    "df = pl.read_parquet(\"C:/Users/gggem/Downloads/kjoretoyinfo_fra_2000 (1).parquet\")"
   ]
  },
  {
   "cell_type": "code",
   "execution_count": 76,
   "id": "9cbf3fad-e7e6-449e-8810-2dccac6c51ed",
   "metadata": {
    "scrolled": true
   },
   "outputs": [
    {
     "data": {
      "text/html": [
       "<div><style>\n",
       ".dataframe > thead > tr,\n",
       ".dataframe > tbody > tr {\n",
       "  text-align: right;\n",
       "  white-space: pre-wrap;\n",
       "}\n",
       "</style>\n",
       "<small>shape: (2_692_915, 12)</small><table border=\"1\" class=\"dataframe\"><thead><tr><th>tekn_reg_f_g</th><th>tekn_reg_f_g_n</th><th>tekn_reg_eier_dato</th><th>tekn_merke</th><th>tekn_kjtgrp</th><th>tekn_modell</th><th>tekn_farge</th><th>tekn_drivstoff</th><th>tekn_siste_pkk</th><th>tekn_neste_pkk</th><th>tekn_aksler_drift</th><th>tekn_sitteplasser_totalt</th></tr><tr><td>date</td><td>date</td><td>date</td><td>i64</td><td>i64</td><td>str</td><td>str</td><td>str</td><td>date</td><td>date</td><td>i64</td><td>i64</td></tr></thead><tbody><tr><td>2021-10-13</td><td>2021-10-13</td><td>2021-10-13</td><td>3900</td><td>315</td><td>&quot;VITO&quot;</td><td>&quot;05&quot;</td><td>&quot;2&quot;</td><td>null</td><td>2025-10-13</td><td>2</td><td>3</td></tr><tr><td>2020-01-29</td><td>2020-01-29</td><td>2020-01-29</td><td>5750</td><td>315</td><td>&quot;CADDY&quot;</td><td>&quot;06&quot;</td><td>&quot;2&quot;</td><td>2023-12-05</td><td>2026-01-29</td><td>2</td><td>2</td></tr><tr><td>2023-11-29</td><td>2023-11-29</td><td>2023-11-29</td><td>2600</td><td>101</td><td>&quot;Mustang Mach-E…</td><td>&quot;06&quot;</td><td>&quot;5&quot;</td><td>null</td><td>2027-11-29</td><td>1</td><td>5</td></tr><tr><td>2020-01-27</td><td>2020-01-27</td><td>2020-01-27</td><td>5750</td><td>315</td><td>&quot;CADDY&quot;</td><td>&quot;01&quot;</td><td>&quot;2&quot;</td><td>null</td><td>2024-01-27</td><td>2</td><td>2</td></tr><tr><td>2018-07-31</td><td>2019-01-30</td><td>2019-01-30</td><td>2600</td><td>315</td><td>&quot;F-150 Platinum…</td><td>&quot;06&quot;</td><td>&quot;2&quot;</td><td>2022-05-03</td><td>2024-05-03</td><td>2</td><td>2</td></tr><tr><td>&hellip;</td><td>&hellip;</td><td>&hellip;</td><td>&hellip;</td><td>&hellip;</td><td>&hellip;</td><td>&hellip;</td><td>&hellip;</td><td>&hellip;</td><td>&hellip;</td><td>&hellip;</td><td>&hellip;</td></tr><tr><td>2003-11-27</td><td>2003-11-27</td><td>2017-06-10</td><td>4350</td><td>101</td><td>&quot;ZAFIRA-A&quot;</td><td>&quot;11&quot;</td><td>&quot;1&quot;</td><td>2019-05-14</td><td>2021-04-30</td><td>0</td><td>7</td></tr><tr><td>2014-01-17</td><td>2014-01-17</td><td>2018-07-31</td><td>2600</td><td>315</td><td>&quot;RANGER&quot;</td><td>&quot;05&quot;</td><td>&quot;2&quot;</td><td>2022-05-11</td><td>2024-06-30</td><td>2</td><td>2</td></tr><tr><td>2008-03-31</td><td>2008-03-31</td><td>2023-07-28</td><td>3930</td><td>101</td><td>&quot;MX-5&quot;</td><td>&quot;05&quot;</td><td>&quot;1&quot;</td><td>2023-08-16</td><td>2025-08-16</td><td>0</td><td>2</td></tr><tr><td>2015-07-31</td><td>2015-07-31</td><td>2023-06-30</td><td>4500</td><td>101</td><td>&quot;iOn&quot;</td><td>&quot;01&quot;</td><td>&quot;5&quot;</td><td>2023-03-20</td><td>2025-03-31</td><td>1</td><td>4</td></tr><tr><td>2004-09-21</td><td>2004-09-21</td><td>2014-01-20</td><td>5750</td><td>101</td><td>&quot;POLO&quot;</td><td>&quot;11&quot;</td><td>&quot;1&quot;</td><td>2014-10-17</td><td>null</td><td>0</td><td>5</td></tr></tbody></table></div>"
      ],
      "text/plain": [
       "shape: (2_692_915, 12)\n",
       "┌──────────────┬────────────────┬────────────────────┬────────────┬───┬────────────────┬────────────────┬───────────────────┬──────────────────────────┐\n",
       "│ tekn_reg_f_g ┆ tekn_reg_f_g_n ┆ tekn_reg_eier_dato ┆ tekn_merke ┆ … ┆ tekn_siste_pkk ┆ tekn_neste_pkk ┆ tekn_aksler_drift ┆ tekn_sitteplasser_totalt │\n",
       "│ ---          ┆ ---            ┆ ---                ┆ ---        ┆   ┆ ---            ┆ ---            ┆ ---               ┆ ---                      │\n",
       "│ date         ┆ date           ┆ date               ┆ i64        ┆   ┆ date           ┆ date           ┆ i64               ┆ i64                      │\n",
       "╞══════════════╪════════════════╪════════════════════╪════════════╪═══╪════════════════╪════════════════╪═══════════════════╪══════════════════════════╡\n",
       "│ 2021-10-13   ┆ 2021-10-13     ┆ 2021-10-13         ┆ 3900       ┆ … ┆ null           ┆ 2025-10-13     ┆ 2                 ┆ 3                        │\n",
       "│ 2020-01-29   ┆ 2020-01-29     ┆ 2020-01-29         ┆ 5750       ┆ … ┆ 2023-12-05     ┆ 2026-01-29     ┆ 2                 ┆ 2                        │\n",
       "│ 2023-11-29   ┆ 2023-11-29     ┆ 2023-11-29         ┆ 2600       ┆ … ┆ null           ┆ 2027-11-29     ┆ 1                 ┆ 5                        │\n",
       "│ 2020-01-27   ┆ 2020-01-27     ┆ 2020-01-27         ┆ 5750       ┆ … ┆ null           ┆ 2024-01-27     ┆ 2                 ┆ 2                        │\n",
       "│ 2018-07-31   ┆ 2019-01-30     ┆ 2019-01-30         ┆ 2600       ┆ … ┆ 2022-05-03     ┆ 2024-05-03     ┆ 2                 ┆ 2                        │\n",
       "│ …            ┆ …              ┆ …                  ┆ …          ┆ … ┆ …              ┆ …              ┆ …                 ┆ …                        │\n",
       "│ 2003-11-27   ┆ 2003-11-27     ┆ 2017-06-10         ┆ 4350       ┆ … ┆ 2019-05-14     ┆ 2021-04-30     ┆ 0                 ┆ 7                        │\n",
       "│ 2014-01-17   ┆ 2014-01-17     ┆ 2018-07-31         ┆ 2600       ┆ … ┆ 2022-05-11     ┆ 2024-06-30     ┆ 2                 ┆ 2                        │\n",
       "│ 2008-03-31   ┆ 2008-03-31     ┆ 2023-07-28         ┆ 3930       ┆ … ┆ 2023-08-16     ┆ 2025-08-16     ┆ 0                 ┆ 2                        │\n",
       "│ 2015-07-31   ┆ 2015-07-31     ┆ 2023-06-30         ┆ 4500       ┆ … ┆ 2023-03-20     ┆ 2025-03-31     ┆ 1                 ┆ 4                        │\n",
       "│ 2004-09-21   ┆ 2004-09-21     ┆ 2014-01-20         ┆ 5750       ┆ … ┆ 2014-10-17     ┆ null           ┆ 0                 ┆ 5                        │\n",
       "└──────────────┴────────────────┴────────────────────┴────────────┴───┴────────────────┴────────────────┴───────────────────┴──────────────────────────┘"
      ]
     },
     "execution_count": 76,
     "metadata": {},
     "output_type": "execute_result"
    }
   ],
   "source": [
    "df = df.with_columns(\n",
    "    pl.col(\"tekn_reg_f_g_n\").cast(str).str.to_date(format=\"%Y%m%d\"),\n",
    "    pl.col(\"tekn_neste_pkk\").cast(str).str.to_date(format=\"%Y%m%d\", strict=False),\n",
    "    pl.col(\"tekn_siste_pkk\").cast(str).str.to_date(format=\"%Y%m%d\", strict=False),\n",
    "    pl.col(\"tekn_reg_eier_dato\").cast(str).str.to_date(format=\"%Y%m%d\"),\n",
    "    pl.col(\"tekn_reg_f_g\").cast(str).str.to_date(format=\"%Y%m%d\"),\n",
    ")\n",
    "df"
   ]
  },
  {
   "cell_type": "code",
   "execution_count": 77,
   "id": "c9d4fda8-4c70-4703-bb23-d040ee03fd45",
   "metadata": {},
   "outputs": [
    {
     "data": {
      "text/html": [
       "<div><style>\n",
       ".dataframe > thead > tr,\n",
       ".dataframe > tbody > tr {\n",
       "  text-align: right;\n",
       "  white-space: pre-wrap;\n",
       "}\n",
       "</style>\n",
       "<small>shape: (2_692_915, 13)</small><table border=\"1\" class=\"dataframe\"><thead><tr><th>id</th><th>tekn_reg_f_g</th><th>tekn_reg_f_g_n</th><th>tekn_reg_eier_dato</th><th>tekn_merke</th><th>tekn_kjtgrp</th><th>tekn_modell</th><th>tekn_farge</th><th>tekn_drivstoff</th><th>tekn_siste_pkk</th><th>tekn_neste_pkk</th><th>tekn_aksler_drift</th><th>tekn_sitteplasser_totalt</th></tr><tr><td>u32</td><td>date</td><td>date</td><td>date</td><td>i64</td><td>i64</td><td>str</td><td>str</td><td>str</td><td>date</td><td>date</td><td>i64</td><td>i64</td></tr></thead><tbody><tr><td>0</td><td>2021-10-13</td><td>2021-10-13</td><td>2021-10-13</td><td>3900</td><td>315</td><td>&quot;VITO&quot;</td><td>&quot;05&quot;</td><td>&quot;2&quot;</td><td>null</td><td>2025-10-13</td><td>2</td><td>3</td></tr><tr><td>1</td><td>2020-01-29</td><td>2020-01-29</td><td>2020-01-29</td><td>5750</td><td>315</td><td>&quot;CADDY&quot;</td><td>&quot;06&quot;</td><td>&quot;2&quot;</td><td>2023-12-05</td><td>2026-01-29</td><td>2</td><td>2</td></tr><tr><td>2</td><td>2023-11-29</td><td>2023-11-29</td><td>2023-11-29</td><td>2600</td><td>101</td><td>&quot;Mustang Mach-E…</td><td>&quot;06&quot;</td><td>&quot;5&quot;</td><td>null</td><td>2027-11-29</td><td>1</td><td>5</td></tr><tr><td>3</td><td>2020-01-27</td><td>2020-01-27</td><td>2020-01-27</td><td>5750</td><td>315</td><td>&quot;CADDY&quot;</td><td>&quot;01&quot;</td><td>&quot;2&quot;</td><td>null</td><td>2024-01-27</td><td>2</td><td>2</td></tr><tr><td>4</td><td>2018-07-31</td><td>2019-01-30</td><td>2019-01-30</td><td>2600</td><td>315</td><td>&quot;F-150 Platinum…</td><td>&quot;06&quot;</td><td>&quot;2&quot;</td><td>2022-05-03</td><td>2024-05-03</td><td>2</td><td>2</td></tr><tr><td>&hellip;</td><td>&hellip;</td><td>&hellip;</td><td>&hellip;</td><td>&hellip;</td><td>&hellip;</td><td>&hellip;</td><td>&hellip;</td><td>&hellip;</td><td>&hellip;</td><td>&hellip;</td><td>&hellip;</td><td>&hellip;</td></tr><tr><td>2692910</td><td>2003-11-27</td><td>2003-11-27</td><td>2017-06-10</td><td>4350</td><td>101</td><td>&quot;ZAFIRA-A&quot;</td><td>&quot;11&quot;</td><td>&quot;1&quot;</td><td>2019-05-14</td><td>2021-04-30</td><td>0</td><td>7</td></tr><tr><td>2692911</td><td>2014-01-17</td><td>2014-01-17</td><td>2018-07-31</td><td>2600</td><td>315</td><td>&quot;RANGER&quot;</td><td>&quot;05&quot;</td><td>&quot;2&quot;</td><td>2022-05-11</td><td>2024-06-30</td><td>2</td><td>2</td></tr><tr><td>2692912</td><td>2008-03-31</td><td>2008-03-31</td><td>2023-07-28</td><td>3930</td><td>101</td><td>&quot;MX-5&quot;</td><td>&quot;05&quot;</td><td>&quot;1&quot;</td><td>2023-08-16</td><td>2025-08-16</td><td>0</td><td>2</td></tr><tr><td>2692913</td><td>2015-07-31</td><td>2015-07-31</td><td>2023-06-30</td><td>4500</td><td>101</td><td>&quot;iOn&quot;</td><td>&quot;01&quot;</td><td>&quot;5&quot;</td><td>2023-03-20</td><td>2025-03-31</td><td>1</td><td>4</td></tr><tr><td>2692914</td><td>2004-09-21</td><td>2004-09-21</td><td>2014-01-20</td><td>5750</td><td>101</td><td>&quot;POLO&quot;</td><td>&quot;11&quot;</td><td>&quot;1&quot;</td><td>2014-10-17</td><td>null</td><td>0</td><td>5</td></tr></tbody></table></div>"
      ],
      "text/plain": [
       "shape: (2_692_915, 13)\n",
       "┌─────────┬──────────────┬────────────────┬────────────────────┬───┬────────────────┬────────────────┬───────────────────┬──────────────────────────┐\n",
       "│ id      ┆ tekn_reg_f_g ┆ tekn_reg_f_g_n ┆ tekn_reg_eier_dato ┆ … ┆ tekn_siste_pkk ┆ tekn_neste_pkk ┆ tekn_aksler_drift ┆ tekn_sitteplasser_totalt │\n",
       "│ ---     ┆ ---          ┆ ---            ┆ ---                ┆   ┆ ---            ┆ ---            ┆ ---               ┆ ---                      │\n",
       "│ u32     ┆ date         ┆ date           ┆ date               ┆   ┆ date           ┆ date           ┆ i64               ┆ i64                      │\n",
       "╞═════════╪══════════════╪════════════════╪════════════════════╪═══╪════════════════╪════════════════╪═══════════════════╪══════════════════════════╡\n",
       "│ 0       ┆ 2021-10-13   ┆ 2021-10-13     ┆ 2021-10-13         ┆ … ┆ null           ┆ 2025-10-13     ┆ 2                 ┆ 3                        │\n",
       "│ 1       ┆ 2020-01-29   ┆ 2020-01-29     ┆ 2020-01-29         ┆ … ┆ 2023-12-05     ┆ 2026-01-29     ┆ 2                 ┆ 2                        │\n",
       "│ 2       ┆ 2023-11-29   ┆ 2023-11-29     ┆ 2023-11-29         ┆ … ┆ null           ┆ 2027-11-29     ┆ 1                 ┆ 5                        │\n",
       "│ 3       ┆ 2020-01-27   ┆ 2020-01-27     ┆ 2020-01-27         ┆ … ┆ null           ┆ 2024-01-27     ┆ 2                 ┆ 2                        │\n",
       "│ 4       ┆ 2018-07-31   ┆ 2019-01-30     ┆ 2019-01-30         ┆ … ┆ 2022-05-03     ┆ 2024-05-03     ┆ 2                 ┆ 2                        │\n",
       "│ …       ┆ …            ┆ …              ┆ …                  ┆ … ┆ …              ┆ …              ┆ …                 ┆ …                        │\n",
       "│ 2692910 ┆ 2003-11-27   ┆ 2003-11-27     ┆ 2017-06-10         ┆ … ┆ 2019-05-14     ┆ 2021-04-30     ┆ 0                 ┆ 7                        │\n",
       "│ 2692911 ┆ 2014-01-17   ┆ 2014-01-17     ┆ 2018-07-31         ┆ … ┆ 2022-05-11     ┆ 2024-06-30     ┆ 2                 ┆ 2                        │\n",
       "│ 2692912 ┆ 2008-03-31   ┆ 2008-03-31     ┆ 2023-07-28         ┆ … ┆ 2023-08-16     ┆ 2025-08-16     ┆ 0                 ┆ 2                        │\n",
       "│ 2692913 ┆ 2015-07-31   ┆ 2015-07-31     ┆ 2023-06-30         ┆ … ┆ 2023-03-20     ┆ 2025-03-31     ┆ 1                 ┆ 4                        │\n",
       "│ 2692914 ┆ 2004-09-21   ┆ 2004-09-21     ┆ 2014-01-20         ┆ … ┆ 2014-10-17     ┆ null           ┆ 0                 ┆ 5                        │\n",
       "└─────────┴──────────────┴────────────────┴────────────────────┴───┴────────────────┴────────────────┴───────────────────┴──────────────────────────┘"
      ]
     },
     "execution_count": 77,
     "metadata": {},
     "output_type": "execute_result"
    }
   ],
   "source": [
    "df = df.with_row_index(\"id\")\n",
    "df"
   ]
  },
  {
   "cell_type": "code",
   "execution_count": 78,
   "id": "af0383b8-1915-4d5e-9a72-010d6d87ca96",
   "metadata": {},
   "outputs": [
    {
     "data": {
      "text/html": [
       "<div><style>\n",
       ".dataframe > thead > tr,\n",
       ".dataframe > tbody > tr {\n",
       "  text-align: right;\n",
       "  white-space: pre-wrap;\n",
       "}\n",
       "</style>\n",
       "<small>shape: (16, 2)</small><table border=\"1\" class=\"dataframe\"><thead><tr><th>kode</th><th>beskrivelse</th></tr><tr><td>str</td><td>str</td></tr></thead><tbody><tr><td>&quot;1&quot;</td><td>&quot;Hvit (også ant…</td></tr><tr><td>&quot;2&quot;</td><td>&quot;Rød (også burg…</td></tr><tr><td>&quot;3&quot;</td><td>&quot;Blå&quot;</td></tr><tr><td>&quot;4&quot;</td><td>&quot;Grønn (også gr…</td></tr><tr><td>&quot;5&quot;</td><td>&quot;Grå&quot;</td></tr><tr><td>&hellip;</td><td>&hellip;</td></tr><tr><td>&quot;12&quot;</td><td>&quot;Gull (også bro…</td></tr><tr><td>&quot;13&quot;</td><td>&quot;Rosa&quot;</td></tr><tr><td>&quot;14&quot;</td><td>&quot;Fiolett (også …</td></tr><tr><td>&quot;29&quot;</td><td>&quot;Turkis (også b…</td></tr><tr><td>&quot;99&quot;</td><td>&quot;Annen (flerfar…</td></tr></tbody></table></div>"
      ],
      "text/plain": [
       "shape: (16, 2)\n",
       "┌──────┬───────────────────────────────────┐\n",
       "│ kode ┆ beskrivelse                       │\n",
       "│ ---  ┆ ---                               │\n",
       "│ str  ┆ str                               │\n",
       "╞══════╪═══════════════════════════════════╡\n",
       "│ 1    ┆ Hvit (også antikkhvit, offwhite)  │\n",
       "│ 2    ┆ Rød (også burgunder)              │\n",
       "│ 3    ┆ Blå                               │\n",
       "│ 4    ┆ Grønn (også grønngrå, blågrå)     │\n",
       "│ 5    ┆ Grå                               │\n",
       "│ …    ┆ …                                 │\n",
       "│ 12   ┆ Gull (også bronse, gull metallic… │\n",
       "│ 13   ┆ Rosa                              │\n",
       "│ 14   ┆ Fiolett (også blåfiolett, fiolet… │\n",
       "│ 29   ┆ Turkis (også blågrønn, grønnblå)  │\n",
       "│ 99   ┆ Annen (flerfargede kjøretøy migr… │\n",
       "└──────┴───────────────────────────────────┘"
      ]
     },
     "execution_count": 78,
     "metadata": {},
     "output_type": "execute_result"
    }
   ],
   "source": [
    "#fargekoden er fra fasiten\n",
    "fargekode = pl.read_csv(\"C:/Users/gggem/Downloads/fargekode.csv\", separator=\";\", dtypes={\"kode\":str})\n",
    "fargekode"
   ]
  },
  {
   "cell_type": "code",
   "execution_count": 79,
   "id": "a60ef6fb-b8ad-4bb1-bf3c-a8322014937b",
   "metadata": {},
   "outputs": [
    {
     "data": {
      "text/html": [
       "<div><style>\n",
       ".dataframe > thead > tr,\n",
       ".dataframe > tbody > tr {\n",
       "  text-align: right;\n",
       "  white-space: pre-wrap;\n",
       "}\n",
       "</style>\n",
       "<small>shape: (16, 2)</small><table border=\"1\" class=\"dataframe\"><thead><tr><th>kode</th><th>farge_navn</th></tr><tr><td>str</td><td>str</td></tr></thead><tbody><tr><td>&quot;01&quot;</td><td>&quot;Hvit (også ant…</td></tr><tr><td>&quot;02&quot;</td><td>&quot;Rød (også burg…</td></tr><tr><td>&quot;03&quot;</td><td>&quot;Blå&quot;</td></tr><tr><td>&quot;04&quot;</td><td>&quot;Grønn (også gr…</td></tr><tr><td>&quot;05&quot;</td><td>&quot;Grå&quot;</td></tr><tr><td>&hellip;</td><td>&hellip;</td></tr><tr><td>&quot;12&quot;</td><td>&quot;Gull (også bro…</td></tr><tr><td>&quot;13&quot;</td><td>&quot;Rosa&quot;</td></tr><tr><td>&quot;14&quot;</td><td>&quot;Fiolett (også …</td></tr><tr><td>&quot;29&quot;</td><td>&quot;Turkis (også b…</td></tr><tr><td>&quot;99&quot;</td><td>&quot;Annen (flerfar…</td></tr></tbody></table></div>"
      ],
      "text/plain": [
       "shape: (16, 2)\n",
       "┌──────┬───────────────────────────────────┐\n",
       "│ kode ┆ farge_navn                        │\n",
       "│ ---  ┆ ---                               │\n",
       "│ str  ┆ str                               │\n",
       "╞══════╪═══════════════════════════════════╡\n",
       "│ 01   ┆ Hvit (også antikkhvit, offwhite)  │\n",
       "│ 02   ┆ Rød (også burgunder)              │\n",
       "│ 03   ┆ Blå                               │\n",
       "│ 04   ┆ Grønn (også grønngrå, blågrå)     │\n",
       "│ 05   ┆ Grå                               │\n",
       "│ …    ┆ …                                 │\n",
       "│ 12   ┆ Gull (også bronse, gull metallic… │\n",
       "│ 13   ┆ Rosa                              │\n",
       "│ 14   ┆ Fiolett (også blåfiolett, fiolet… │\n",
       "│ 29   ┆ Turkis (også blågrønn, grønnblå)  │\n",
       "│ 99   ┆ Annen (flerfargede kjøretøy migr… │\n",
       "└──────┴───────────────────────────────────┘"
      ]
     },
     "execution_count": 79,
     "metadata": {},
     "output_type": "execute_result"
    }
   ],
   "source": [
    "fargekode = fargekode.with_columns(\n",
    "    pl.col(\"kode\").str.pad_start(2, \"0\")\n",
    ").rename(\n",
    "    {\"beskrivelse\":\"farge_navn\"}\n",
    ")\n",
    "fargekode"
   ]
  },
  {
   "cell_type": "code",
   "execution_count": 80,
   "id": "7b96eb6c-c2aa-44ec-8d8c-ff089a8d404f",
   "metadata": {
    "scrolled": true
   },
   "outputs": [
    {
     "data": {
      "text/html": [
       "<div><style>\n",
       ".dataframe > thead > tr,\n",
       ".dataframe > tbody > tr {\n",
       "  text-align: right;\n",
       "  white-space: pre-wrap;\n",
       "}\n",
       "</style>\n",
       "<small>shape: (2_692_915, 13)</small><table border=\"1\" class=\"dataframe\"><thead><tr><th>id</th><th>tekn_reg_f_g</th><th>tekn_reg_f_g_n</th><th>tekn_reg_eier_dato</th><th>tekn_merke</th><th>tekn_kjtgrp</th><th>tekn_modell</th><th>tekn_farge</th><th>tekn_drivstoff</th><th>tekn_siste_pkk</th><th>tekn_neste_pkk</th><th>tekn_aksler_drift</th><th>tekn_sitteplasser_totalt</th></tr><tr><td>u32</td><td>date</td><td>date</td><td>date</td><td>i64</td><td>i64</td><td>str</td><td>str</td><td>str</td><td>date</td><td>date</td><td>i64</td><td>i64</td></tr></thead><tbody><tr><td>463213</td><td>2021-05-27</td><td>2021-05-27</td><td>2021-05-27</td><td>5040</td><td>340</td><td>&quot;S 590&quot;</td><td>&quot;04,01,02,06&quot;</td><td>&quot;2&quot;</td><td>2023-03-02</td><td>2024-03-02</td><td>2</td><td>2</td></tr><tr><td>564129</td><td>1979-12-31</td><td>2017-08-14</td><td>2017-09-26</td><td>7560</td><td>601</td><td>&quot;50 Enduro&quot;</td><td>&quot;05,02,09,06&quot;</td><td>&quot;1&quot;</td><td>null</td><td>null</td><td>1</td><td>1</td></tr><tr><td>725602</td><td>1997-06-28</td><td>2017-08-08</td><td>2017-08-08</td><td>7740</td><td>620</td><td>&quot;CBR 1100 xx&quot;</td><td>&quot;06,09,01,02&quot;</td><td>&quot;1&quot;</td><td>null</td><td>null</td><td>1</td><td>2</td></tr><tr><td>1364080</td><td>2009-02-18</td><td>2017-05-24</td><td>2023-09-29</td><td>1400</td><td>620</td><td>&quot;K 1300 S&quot;</td><td>&quot;06,05,01,02&quot;</td><td>&quot;1&quot;</td><td>null</td><td>null</td><td>1</td><td>2</td></tr><tr><td>1460063</td><td>2007-07-17</td><td>2007-07-17</td><td>2022-09-12</td><td>7740</td><td>610</td><td>&quot;HONDA CBR125RS…</td><td>&quot;10,06,02,01&quot;</td><td>&quot;1&quot;</td><td>null</td><td>null</td><td>1</td><td>2</td></tr><tr><td>&hellip;</td><td>&hellip;</td><td>&hellip;</td><td>&hellip;</td><td>&hellip;</td><td>&hellip;</td><td>&hellip;</td><td>&hellip;</td><td>&hellip;</td><td>&hellip;</td><td>&hellip;</td><td>&hellip;</td><td>&hellip;</td></tr><tr><td>292</td><td>2011-11-10</td><td>2011-11-10</td><td>2018-07-12</td><td>460</td><td>316</td><td>&quot;S-LINER&quot;</td><td>null</td><td>&quot;2&quot;</td><td>2023-09-18</td><td>2025-10-31</td><td>1</td><td>4</td></tr><tr><td>226</td><td>2004-12-08</td><td>2004-12-08</td><td>2019-01-26</td><td>4350</td><td>315</td><td>&quot;COMBO 1.7 DTI …</td><td>null</td><td>&quot;2&quot;</td><td>2019-05-08</td><td>2020-09-07</td><td>1</td><td>2</td></tr><tr><td>196</td><td>2005-06-16</td><td>2005-06-16</td><td>2023-07-23</td><td>1400</td><td>620</td><td>&quot;R1200GS&quot;</td><td>null</td><td>&quot;1&quot;</td><td>null</td><td>null</td><td>1</td><td>2</td></tr><tr><td>62</td><td>2001-10-18</td><td>2001-10-18</td><td>2023-04-15</td><td>3930</td><td>101</td><td>&quot;323&quot;</td><td>null</td><td>&quot;1&quot;</td><td>2023-07-03</td><td>2025-06-30</td><td>1</td><td>5</td></tr><tr><td>17</td><td>2002-08-15</td><td>2002-08-15</td><td>2014-03-20</td><td>2001</td><td>101</td><td>&quot;PRIMERA&quot;</td><td>null</td><td>&quot;1&quot;</td><td>2014-02-13</td><td>null</td><td>1</td><td>5</td></tr></tbody></table></div>"
      ],
      "text/plain": [
       "shape: (2_692_915, 13)\n",
       "┌─────────┬──────────────┬────────────────┬────────────────────┬───┬────────────────┬────────────────┬───────────────────┬──────────────────────────┐\n",
       "│ id      ┆ tekn_reg_f_g ┆ tekn_reg_f_g_n ┆ tekn_reg_eier_dato ┆ … ┆ tekn_siste_pkk ┆ tekn_neste_pkk ┆ tekn_aksler_drift ┆ tekn_sitteplasser_totalt │\n",
       "│ ---     ┆ ---          ┆ ---            ┆ ---                ┆   ┆ ---            ┆ ---            ┆ ---               ┆ ---                      │\n",
       "│ u32     ┆ date         ┆ date           ┆ date               ┆   ┆ date           ┆ date           ┆ i64               ┆ i64                      │\n",
       "╞═════════╪══════════════╪════════════════╪════════════════════╪═══╪════════════════╪════════════════╪═══════════════════╪══════════════════════════╡\n",
       "│ 463213  ┆ 2021-05-27   ┆ 2021-05-27     ┆ 2021-05-27         ┆ … ┆ 2023-03-02     ┆ 2024-03-02     ┆ 2                 ┆ 2                        │\n",
       "│ 564129  ┆ 1979-12-31   ┆ 2017-08-14     ┆ 2017-09-26         ┆ … ┆ null           ┆ null           ┆ 1                 ┆ 1                        │\n",
       "│ 725602  ┆ 1997-06-28   ┆ 2017-08-08     ┆ 2017-08-08         ┆ … ┆ null           ┆ null           ┆ 1                 ┆ 2                        │\n",
       "│ 1364080 ┆ 2009-02-18   ┆ 2017-05-24     ┆ 2023-09-29         ┆ … ┆ null           ┆ null           ┆ 1                 ┆ 2                        │\n",
       "│ 1460063 ┆ 2007-07-17   ┆ 2007-07-17     ┆ 2022-09-12         ┆ … ┆ null           ┆ null           ┆ 1                 ┆ 2                        │\n",
       "│ …       ┆ …            ┆ …              ┆ …                  ┆ … ┆ …              ┆ …              ┆ …                 ┆ …                        │\n",
       "│ 292     ┆ 2011-11-10   ┆ 2011-11-10     ┆ 2018-07-12         ┆ … ┆ 2023-09-18     ┆ 2025-10-31     ┆ 1                 ┆ 4                        │\n",
       "│ 226     ┆ 2004-12-08   ┆ 2004-12-08     ┆ 2019-01-26         ┆ … ┆ 2019-05-08     ┆ 2020-09-07     ┆ 1                 ┆ 2                        │\n",
       "│ 196     ┆ 2005-06-16   ┆ 2005-06-16     ┆ 2023-07-23         ┆ … ┆ null           ┆ null           ┆ 1                 ┆ 2                        │\n",
       "│ 62      ┆ 2001-10-18   ┆ 2001-10-18     ┆ 2023-04-15         ┆ … ┆ 2023-07-03     ┆ 2025-06-30     ┆ 1                 ┆ 5                        │\n",
       "│ 17      ┆ 2002-08-15   ┆ 2002-08-15     ┆ 2014-03-20         ┆ … ┆ 2014-02-13     ┆ null           ┆ 1                 ┆ 5                        │\n",
       "└─────────┴──────────────┴────────────────┴────────────────────┴───┴────────────────┴────────────────┴───────────────────┴──────────────────────────┘"
      ]
     },
     "execution_count": 80,
     "metadata": {},
     "output_type": "execute_result"
    }
   ],
   "source": [
    "df.sort(pl.col(\"tekn_farge\").str.len_chars(), nulls_last=True, descending=True)"
   ]
  },
  {
   "cell_type": "code",
   "execution_count": 81,
   "id": "af0d6c45-abf2-49e4-955d-deca9b8e57af",
   "metadata": {},
   "outputs": [
    {
     "data": {
      "text/html": [
       "<div><style>\n",
       ".dataframe > thead > tr,\n",
       ".dataframe > tbody > tr {\n",
       "  text-align: right;\n",
       "  white-space: pre-wrap;\n",
       "}\n",
       "</style>\n",
       "<small>shape: (2_692_915, 13)</small><table border=\"1\" class=\"dataframe\"><thead><tr><th>id</th><th>tekn_reg_f_g</th><th>tekn_reg_f_g_n</th><th>tekn_reg_eier_dato</th><th>tekn_merke</th><th>tekn_kjtgrp</th><th>tekn_modell</th><th>tekn_farge</th><th>tekn_drivstoff</th><th>tekn_siste_pkk</th><th>tekn_neste_pkk</th><th>tekn_aksler_drift</th><th>tekn_sitteplasser_totalt</th></tr><tr><td>u32</td><td>date</td><td>date</td><td>date</td><td>i64</td><td>i64</td><td>str</td><td>list[str]</td><td>str</td><td>date</td><td>date</td><td>i64</td><td>i64</td></tr></thead><tbody><tr><td>0</td><td>2021-10-13</td><td>2021-10-13</td><td>2021-10-13</td><td>3900</td><td>315</td><td>&quot;VITO&quot;</td><td>[&quot;05&quot;]</td><td>&quot;2&quot;</td><td>null</td><td>2025-10-13</td><td>2</td><td>3</td></tr><tr><td>1</td><td>2020-01-29</td><td>2020-01-29</td><td>2020-01-29</td><td>5750</td><td>315</td><td>&quot;CADDY&quot;</td><td>[&quot;06&quot;]</td><td>&quot;2&quot;</td><td>2023-12-05</td><td>2026-01-29</td><td>2</td><td>2</td></tr><tr><td>2</td><td>2023-11-29</td><td>2023-11-29</td><td>2023-11-29</td><td>2600</td><td>101</td><td>&quot;Mustang Mach-E…</td><td>[&quot;06&quot;]</td><td>&quot;5&quot;</td><td>null</td><td>2027-11-29</td><td>1</td><td>5</td></tr><tr><td>3</td><td>2020-01-27</td><td>2020-01-27</td><td>2020-01-27</td><td>5750</td><td>315</td><td>&quot;CADDY&quot;</td><td>[&quot;01&quot;]</td><td>&quot;2&quot;</td><td>null</td><td>2024-01-27</td><td>2</td><td>2</td></tr><tr><td>4</td><td>2018-07-31</td><td>2019-01-30</td><td>2019-01-30</td><td>2600</td><td>315</td><td>&quot;F-150 Platinum…</td><td>[&quot;06&quot;]</td><td>&quot;2&quot;</td><td>2022-05-03</td><td>2024-05-03</td><td>2</td><td>2</td></tr><tr><td>&hellip;</td><td>&hellip;</td><td>&hellip;</td><td>&hellip;</td><td>&hellip;</td><td>&hellip;</td><td>&hellip;</td><td>&hellip;</td><td>&hellip;</td><td>&hellip;</td><td>&hellip;</td><td>&hellip;</td><td>&hellip;</td></tr><tr><td>2692910</td><td>2003-11-27</td><td>2003-11-27</td><td>2017-06-10</td><td>4350</td><td>101</td><td>&quot;ZAFIRA-A&quot;</td><td>[&quot;11&quot;]</td><td>&quot;1&quot;</td><td>2019-05-14</td><td>2021-04-30</td><td>0</td><td>7</td></tr><tr><td>2692911</td><td>2014-01-17</td><td>2014-01-17</td><td>2018-07-31</td><td>2600</td><td>315</td><td>&quot;RANGER&quot;</td><td>[&quot;05&quot;]</td><td>&quot;2&quot;</td><td>2022-05-11</td><td>2024-06-30</td><td>2</td><td>2</td></tr><tr><td>2692912</td><td>2008-03-31</td><td>2008-03-31</td><td>2023-07-28</td><td>3930</td><td>101</td><td>&quot;MX-5&quot;</td><td>[&quot;05&quot;]</td><td>&quot;1&quot;</td><td>2023-08-16</td><td>2025-08-16</td><td>0</td><td>2</td></tr><tr><td>2692913</td><td>2015-07-31</td><td>2015-07-31</td><td>2023-06-30</td><td>4500</td><td>101</td><td>&quot;iOn&quot;</td><td>[&quot;01&quot;]</td><td>&quot;5&quot;</td><td>2023-03-20</td><td>2025-03-31</td><td>1</td><td>4</td></tr><tr><td>2692914</td><td>2004-09-21</td><td>2004-09-21</td><td>2014-01-20</td><td>5750</td><td>101</td><td>&quot;POLO&quot;</td><td>[&quot;11&quot;]</td><td>&quot;1&quot;</td><td>2014-10-17</td><td>null</td><td>0</td><td>5</td></tr></tbody></table></div>"
      ],
      "text/plain": [
       "shape: (2_692_915, 13)\n",
       "┌─────────┬──────────────┬────────────────┬────────────────────┬───┬────────────────┬────────────────┬───────────────────┬──────────────────────────┐\n",
       "│ id      ┆ tekn_reg_f_g ┆ tekn_reg_f_g_n ┆ tekn_reg_eier_dato ┆ … ┆ tekn_siste_pkk ┆ tekn_neste_pkk ┆ tekn_aksler_drift ┆ tekn_sitteplasser_totalt │\n",
       "│ ---     ┆ ---          ┆ ---            ┆ ---                ┆   ┆ ---            ┆ ---            ┆ ---               ┆ ---                      │\n",
       "│ u32     ┆ date         ┆ date           ┆ date               ┆   ┆ date           ┆ date           ┆ i64               ┆ i64                      │\n",
       "╞═════════╪══════════════╪════════════════╪════════════════════╪═══╪════════════════╪════════════════╪═══════════════════╪══════════════════════════╡\n",
       "│ 0       ┆ 2021-10-13   ┆ 2021-10-13     ┆ 2021-10-13         ┆ … ┆ null           ┆ 2025-10-13     ┆ 2                 ┆ 3                        │\n",
       "│ 1       ┆ 2020-01-29   ┆ 2020-01-29     ┆ 2020-01-29         ┆ … ┆ 2023-12-05     ┆ 2026-01-29     ┆ 2                 ┆ 2                        │\n",
       "│ 2       ┆ 2023-11-29   ┆ 2023-11-29     ┆ 2023-11-29         ┆ … ┆ null           ┆ 2027-11-29     ┆ 1                 ┆ 5                        │\n",
       "│ 3       ┆ 2020-01-27   ┆ 2020-01-27     ┆ 2020-01-27         ┆ … ┆ null           ┆ 2024-01-27     ┆ 2                 ┆ 2                        │\n",
       "│ 4       ┆ 2018-07-31   ┆ 2019-01-30     ┆ 2019-01-30         ┆ … ┆ 2022-05-03     ┆ 2024-05-03     ┆ 2                 ┆ 2                        │\n",
       "│ …       ┆ …            ┆ …              ┆ …                  ┆ … ┆ …              ┆ …              ┆ …                 ┆ …                        │\n",
       "│ 2692910 ┆ 2003-11-27   ┆ 2003-11-27     ┆ 2017-06-10         ┆ … ┆ 2019-05-14     ┆ 2021-04-30     ┆ 0                 ┆ 7                        │\n",
       "│ 2692911 ┆ 2014-01-17   ┆ 2014-01-17     ┆ 2018-07-31         ┆ … ┆ 2022-05-11     ┆ 2024-06-30     ┆ 2                 ┆ 2                        │\n",
       "│ 2692912 ┆ 2008-03-31   ┆ 2008-03-31     ┆ 2023-07-28         ┆ … ┆ 2023-08-16     ┆ 2025-08-16     ┆ 0                 ┆ 2                        │\n",
       "│ 2692913 ┆ 2015-07-31   ┆ 2015-07-31     ┆ 2023-06-30         ┆ … ┆ 2023-03-20     ┆ 2025-03-31     ┆ 1                 ┆ 4                        │\n",
       "│ 2692914 ┆ 2004-09-21   ┆ 2004-09-21     ┆ 2014-01-20         ┆ … ┆ 2014-10-17     ┆ null           ┆ 0                 ┆ 5                        │\n",
       "└─────────┴──────────────┴────────────────┴────────────────────┴───┴────────────────┴────────────────┴───────────────────┴──────────────────────────┘"
      ]
     },
     "execution_count": 81,
     "metadata": {},
     "output_type": "execute_result"
    }
   ],
   "source": [
    "df = df.with_columns(pl.col(\"tekn_farge\").str.split(\",\"))\n",
    "df"
   ]
  },
  {
   "cell_type": "code",
   "execution_count": 82,
   "id": "bec1f888-1a90-4a37-8003-3948bfe8a590",
   "metadata": {},
   "outputs": [
    {
     "data": {
      "text/html": [
       "<div><style>\n",
       ".dataframe > thead > tr,\n",
       ".dataframe > tbody > tr {\n",
       "  text-align: right;\n",
       "  white-space: pre-wrap;\n",
       "}\n",
       "</style>\n",
       "<small>shape: (2_739_509, 13)</small><table border=\"1\" class=\"dataframe\"><thead><tr><th>id</th><th>tekn_reg_f_g</th><th>tekn_reg_f_g_n</th><th>tekn_reg_eier_dato</th><th>tekn_merke</th><th>tekn_kjtgrp</th><th>tekn_modell</th><th>tekn_farge</th><th>tekn_drivstoff</th><th>tekn_siste_pkk</th><th>tekn_neste_pkk</th><th>tekn_aksler_drift</th><th>tekn_sitteplasser_totalt</th></tr><tr><td>u32</td><td>date</td><td>date</td><td>date</td><td>i64</td><td>i64</td><td>str</td><td>str</td><td>str</td><td>date</td><td>date</td><td>i64</td><td>i64</td></tr></thead><tbody><tr><td>0</td><td>2021-10-13</td><td>2021-10-13</td><td>2021-10-13</td><td>3900</td><td>315</td><td>&quot;VITO&quot;</td><td>&quot;05&quot;</td><td>&quot;2&quot;</td><td>null</td><td>2025-10-13</td><td>2</td><td>3</td></tr><tr><td>1</td><td>2020-01-29</td><td>2020-01-29</td><td>2020-01-29</td><td>5750</td><td>315</td><td>&quot;CADDY&quot;</td><td>&quot;06&quot;</td><td>&quot;2&quot;</td><td>2023-12-05</td><td>2026-01-29</td><td>2</td><td>2</td></tr><tr><td>2</td><td>2023-11-29</td><td>2023-11-29</td><td>2023-11-29</td><td>2600</td><td>101</td><td>&quot;Mustang Mach-E…</td><td>&quot;06&quot;</td><td>&quot;5&quot;</td><td>null</td><td>2027-11-29</td><td>1</td><td>5</td></tr><tr><td>3</td><td>2020-01-27</td><td>2020-01-27</td><td>2020-01-27</td><td>5750</td><td>315</td><td>&quot;CADDY&quot;</td><td>&quot;01&quot;</td><td>&quot;2&quot;</td><td>null</td><td>2024-01-27</td><td>2</td><td>2</td></tr><tr><td>4</td><td>2018-07-31</td><td>2019-01-30</td><td>2019-01-30</td><td>2600</td><td>315</td><td>&quot;F-150 Platinum…</td><td>&quot;06&quot;</td><td>&quot;2&quot;</td><td>2022-05-03</td><td>2024-05-03</td><td>2</td><td>2</td></tr><tr><td>&hellip;</td><td>&hellip;</td><td>&hellip;</td><td>&hellip;</td><td>&hellip;</td><td>&hellip;</td><td>&hellip;</td><td>&hellip;</td><td>&hellip;</td><td>&hellip;</td><td>&hellip;</td><td>&hellip;</td><td>&hellip;</td></tr><tr><td>2692910</td><td>2003-11-27</td><td>2003-11-27</td><td>2017-06-10</td><td>4350</td><td>101</td><td>&quot;ZAFIRA-A&quot;</td><td>&quot;11&quot;</td><td>&quot;1&quot;</td><td>2019-05-14</td><td>2021-04-30</td><td>0</td><td>7</td></tr><tr><td>2692911</td><td>2014-01-17</td><td>2014-01-17</td><td>2018-07-31</td><td>2600</td><td>315</td><td>&quot;RANGER&quot;</td><td>&quot;05&quot;</td><td>&quot;2&quot;</td><td>2022-05-11</td><td>2024-06-30</td><td>2</td><td>2</td></tr><tr><td>2692912</td><td>2008-03-31</td><td>2008-03-31</td><td>2023-07-28</td><td>3930</td><td>101</td><td>&quot;MX-5&quot;</td><td>&quot;05&quot;</td><td>&quot;1&quot;</td><td>2023-08-16</td><td>2025-08-16</td><td>0</td><td>2</td></tr><tr><td>2692913</td><td>2015-07-31</td><td>2015-07-31</td><td>2023-06-30</td><td>4500</td><td>101</td><td>&quot;iOn&quot;</td><td>&quot;01&quot;</td><td>&quot;5&quot;</td><td>2023-03-20</td><td>2025-03-31</td><td>1</td><td>4</td></tr><tr><td>2692914</td><td>2004-09-21</td><td>2004-09-21</td><td>2014-01-20</td><td>5750</td><td>101</td><td>&quot;POLO&quot;</td><td>&quot;11&quot;</td><td>&quot;1&quot;</td><td>2014-10-17</td><td>null</td><td>0</td><td>5</td></tr></tbody></table></div>"
      ],
      "text/plain": [
       "shape: (2_739_509, 13)\n",
       "┌─────────┬──────────────┬────────────────┬────────────────────┬───┬────────────────┬────────────────┬───────────────────┬──────────────────────────┐\n",
       "│ id      ┆ tekn_reg_f_g ┆ tekn_reg_f_g_n ┆ tekn_reg_eier_dato ┆ … ┆ tekn_siste_pkk ┆ tekn_neste_pkk ┆ tekn_aksler_drift ┆ tekn_sitteplasser_totalt │\n",
       "│ ---     ┆ ---          ┆ ---            ┆ ---                ┆   ┆ ---            ┆ ---            ┆ ---               ┆ ---                      │\n",
       "│ u32     ┆ date         ┆ date           ┆ date               ┆   ┆ date           ┆ date           ┆ i64               ┆ i64                      │\n",
       "╞═════════╪══════════════╪════════════════╪════════════════════╪═══╪════════════════╪════════════════╪═══════════════════╪══════════════════════════╡\n",
       "│ 0       ┆ 2021-10-13   ┆ 2021-10-13     ┆ 2021-10-13         ┆ … ┆ null           ┆ 2025-10-13     ┆ 2                 ┆ 3                        │\n",
       "│ 1       ┆ 2020-01-29   ┆ 2020-01-29     ┆ 2020-01-29         ┆ … ┆ 2023-12-05     ┆ 2026-01-29     ┆ 2                 ┆ 2                        │\n",
       "│ 2       ┆ 2023-11-29   ┆ 2023-11-29     ┆ 2023-11-29         ┆ … ┆ null           ┆ 2027-11-29     ┆ 1                 ┆ 5                        │\n",
       "│ 3       ┆ 2020-01-27   ┆ 2020-01-27     ┆ 2020-01-27         ┆ … ┆ null           ┆ 2024-01-27     ┆ 2                 ┆ 2                        │\n",
       "│ 4       ┆ 2018-07-31   ┆ 2019-01-30     ┆ 2019-01-30         ┆ … ┆ 2022-05-03     ┆ 2024-05-03     ┆ 2                 ┆ 2                        │\n",
       "│ …       ┆ …            ┆ …              ┆ …                  ┆ … ┆ …              ┆ …              ┆ …                 ┆ …                        │\n",
       "│ 2692910 ┆ 2003-11-27   ┆ 2003-11-27     ┆ 2017-06-10         ┆ … ┆ 2019-05-14     ┆ 2021-04-30     ┆ 0                 ┆ 7                        │\n",
       "│ 2692911 ┆ 2014-01-17   ┆ 2014-01-17     ┆ 2018-07-31         ┆ … ┆ 2022-05-11     ┆ 2024-06-30     ┆ 2                 ┆ 2                        │\n",
       "│ 2692912 ┆ 2008-03-31   ┆ 2008-03-31     ┆ 2023-07-28         ┆ … ┆ 2023-08-16     ┆ 2025-08-16     ┆ 0                 ┆ 2                        │\n",
       "│ 2692913 ┆ 2015-07-31   ┆ 2015-07-31     ┆ 2023-06-30         ┆ … ┆ 2023-03-20     ┆ 2025-03-31     ┆ 1                 ┆ 4                        │\n",
       "│ 2692914 ┆ 2004-09-21   ┆ 2004-09-21     ┆ 2014-01-20         ┆ … ┆ 2014-10-17     ┆ null           ┆ 0                 ┆ 5                        │\n",
       "└─────────┴──────────────┴────────────────┴────────────────────┴───┴────────────────┴────────────────┴───────────────────┴──────────────────────────┘"
      ]
     },
     "execution_count": 82,
     "metadata": {},
     "output_type": "execute_result"
    }
   ],
   "source": [
    "df = df.explode(\"tekn_farge\")\n",
    "df"
   ]
  },
  {
   "cell_type": "code",
   "execution_count": 83,
   "id": "97a9a7eb-3c2e-4c2c-b5f8-34ecf2e3a6dc",
   "metadata": {},
   "outputs": [
    {
     "data": {
      "text/html": [
       "<div><style>\n",
       ".dataframe > thead > tr,\n",
       ".dataframe > tbody > tr {\n",
       "  text-align: right;\n",
       "  white-space: pre-wrap;\n",
       "}\n",
       "</style>\n",
       "<small>shape: (2_739_509, 14)</small><table border=\"1\" class=\"dataframe\"><thead><tr><th>id</th><th>tekn_reg_f_g</th><th>tekn_reg_f_g_n</th><th>tekn_reg_eier_dato</th><th>tekn_merke</th><th>tekn_kjtgrp</th><th>tekn_modell</th><th>tekn_farge</th><th>tekn_drivstoff</th><th>tekn_siste_pkk</th><th>tekn_neste_pkk</th><th>tekn_aksler_drift</th><th>tekn_sitteplasser_totalt</th><th>farge_navn</th></tr><tr><td>u32</td><td>date</td><td>date</td><td>date</td><td>i64</td><td>i64</td><td>str</td><td>str</td><td>str</td><td>date</td><td>date</td><td>i64</td><td>i64</td><td>str</td></tr></thead><tbody><tr><td>0</td><td>2021-10-13</td><td>2021-10-13</td><td>2021-10-13</td><td>3900</td><td>315</td><td>&quot;VITO&quot;</td><td>&quot;05&quot;</td><td>&quot;2&quot;</td><td>null</td><td>2025-10-13</td><td>2</td><td>3</td><td>&quot;Grå&quot;</td></tr><tr><td>1</td><td>2020-01-29</td><td>2020-01-29</td><td>2020-01-29</td><td>5750</td><td>315</td><td>&quot;CADDY&quot;</td><td>&quot;06&quot;</td><td>&quot;2&quot;</td><td>2023-12-05</td><td>2026-01-29</td><td>2</td><td>2</td><td>&quot;Svart (også bl…</td></tr><tr><td>2</td><td>2023-11-29</td><td>2023-11-29</td><td>2023-11-29</td><td>2600</td><td>101</td><td>&quot;Mustang Mach-E…</td><td>&quot;06&quot;</td><td>&quot;5&quot;</td><td>null</td><td>2027-11-29</td><td>1</td><td>5</td><td>&quot;Svart (også bl…</td></tr><tr><td>3</td><td>2020-01-27</td><td>2020-01-27</td><td>2020-01-27</td><td>5750</td><td>315</td><td>&quot;CADDY&quot;</td><td>&quot;01&quot;</td><td>&quot;2&quot;</td><td>null</td><td>2024-01-27</td><td>2</td><td>2</td><td>&quot;Hvit (også ant…</td></tr><tr><td>4</td><td>2018-07-31</td><td>2019-01-30</td><td>2019-01-30</td><td>2600</td><td>315</td><td>&quot;F-150 Platinum…</td><td>&quot;06&quot;</td><td>&quot;2&quot;</td><td>2022-05-03</td><td>2024-05-03</td><td>2</td><td>2</td><td>&quot;Svart (også bl…</td></tr><tr><td>&hellip;</td><td>&hellip;</td><td>&hellip;</td><td>&hellip;</td><td>&hellip;</td><td>&hellip;</td><td>&hellip;</td><td>&hellip;</td><td>&hellip;</td><td>&hellip;</td><td>&hellip;</td><td>&hellip;</td><td>&hellip;</td><td>&hellip;</td></tr><tr><td>2692910</td><td>2003-11-27</td><td>2003-11-27</td><td>2017-06-10</td><td>4350</td><td>101</td><td>&quot;ZAFIRA-A&quot;</td><td>&quot;11&quot;</td><td>&quot;1&quot;</td><td>2019-05-14</td><td>2021-04-30</td><td>0</td><td>7</td><td>&quot;Sølv (også søl…</td></tr><tr><td>2692911</td><td>2014-01-17</td><td>2014-01-17</td><td>2018-07-31</td><td>2600</td><td>315</td><td>&quot;RANGER&quot;</td><td>&quot;05&quot;</td><td>&quot;2&quot;</td><td>2022-05-11</td><td>2024-06-30</td><td>2</td><td>2</td><td>&quot;Grå&quot;</td></tr><tr><td>2692912</td><td>2008-03-31</td><td>2008-03-31</td><td>2023-07-28</td><td>3930</td><td>101</td><td>&quot;MX-5&quot;</td><td>&quot;05&quot;</td><td>&quot;1&quot;</td><td>2023-08-16</td><td>2025-08-16</td><td>0</td><td>2</td><td>&quot;Grå&quot;</td></tr><tr><td>2692913</td><td>2015-07-31</td><td>2015-07-31</td><td>2023-06-30</td><td>4500</td><td>101</td><td>&quot;iOn&quot;</td><td>&quot;01&quot;</td><td>&quot;5&quot;</td><td>2023-03-20</td><td>2025-03-31</td><td>1</td><td>4</td><td>&quot;Hvit (også ant…</td></tr><tr><td>2692914</td><td>2004-09-21</td><td>2004-09-21</td><td>2014-01-20</td><td>5750</td><td>101</td><td>&quot;POLO&quot;</td><td>&quot;11&quot;</td><td>&quot;1&quot;</td><td>2014-10-17</td><td>null</td><td>0</td><td>5</td><td>&quot;Sølv (også søl…</td></tr></tbody></table></div>"
      ],
      "text/plain": [
       "shape: (2_739_509, 14)\n",
       "┌─────────┬──────────────┬────────────────┬────────────────────┬───┬────────────────┬───────────────────┬──────────────────────────┬───────────────────────────────────┐\n",
       "│ id      ┆ tekn_reg_f_g ┆ tekn_reg_f_g_n ┆ tekn_reg_eier_dato ┆ … ┆ tekn_neste_pkk ┆ tekn_aksler_drift ┆ tekn_sitteplasser_totalt ┆ farge_navn                        │\n",
       "│ ---     ┆ ---          ┆ ---            ┆ ---                ┆   ┆ ---            ┆ ---               ┆ ---                      ┆ ---                               │\n",
       "│ u32     ┆ date         ┆ date           ┆ date               ┆   ┆ date           ┆ i64               ┆ i64                      ┆ str                               │\n",
       "╞═════════╪══════════════╪════════════════╪════════════════════╪═══╪════════════════╪═══════════════════╪══════════════════════════╪═══════════════════════════════════╡\n",
       "│ 0       ┆ 2021-10-13   ┆ 2021-10-13     ┆ 2021-10-13         ┆ … ┆ 2025-10-13     ┆ 2                 ┆ 3                        ┆ Grå                               │\n",
       "│ 1       ┆ 2020-01-29   ┆ 2020-01-29     ┆ 2020-01-29         ┆ … ┆ 2026-01-29     ┆ 2                 ┆ 2                        ┆ Svart (også blåsvart, grafitt mø… │\n",
       "│ 2       ┆ 2023-11-29   ┆ 2023-11-29     ┆ 2023-11-29         ┆ … ┆ 2027-11-29     ┆ 1                 ┆ 5                        ┆ Svart (også blåsvart, grafitt mø… │\n",
       "│ 3       ┆ 2020-01-27   ┆ 2020-01-27     ┆ 2020-01-27         ┆ … ┆ 2024-01-27     ┆ 2                 ┆ 2                        ┆ Hvit (også antikkhvit, offwhite)  │\n",
       "│ 4       ┆ 2018-07-31   ┆ 2019-01-30     ┆ 2019-01-30         ┆ … ┆ 2024-05-03     ┆ 2                 ┆ 2                        ┆ Svart (også blåsvart, grafitt mø… │\n",
       "│ …       ┆ …            ┆ …              ┆ …                  ┆ … ┆ …              ┆ …                 ┆ …                        ┆ …                                 │\n",
       "│ 2692910 ┆ 2003-11-27   ┆ 2003-11-27     ┆ 2017-06-10         ┆ … ┆ 2021-04-30     ┆ 0                 ┆ 7                        ┆ Sølv (også sølv metallic)         │\n",
       "│ 2692911 ┆ 2014-01-17   ┆ 2014-01-17     ┆ 2018-07-31         ┆ … ┆ 2024-06-30     ┆ 2                 ┆ 2                        ┆ Grå                               │\n",
       "│ 2692912 ┆ 2008-03-31   ┆ 2008-03-31     ┆ 2023-07-28         ┆ … ┆ 2025-08-16     ┆ 0                 ┆ 2                        ┆ Grå                               │\n",
       "│ 2692913 ┆ 2015-07-31   ┆ 2015-07-31     ┆ 2023-06-30         ┆ … ┆ 2025-03-31     ┆ 1                 ┆ 4                        ┆ Hvit (også antikkhvit, offwhite)  │\n",
       "│ 2692914 ┆ 2004-09-21   ┆ 2004-09-21     ┆ 2014-01-20         ┆ … ┆ null           ┆ 0                 ┆ 5                        ┆ Sølv (også sølv metallic)         │\n",
       "└─────────┴──────────────┴────────────────┴────────────────────┴───┴────────────────┴───────────────────┴──────────────────────────┴───────────────────────────────────┘"
      ]
     },
     "execution_count": 83,
     "metadata": {},
     "output_type": "execute_result"
    }
   ],
   "source": [
    "df = df.join(fargekode, left_on=\"tekn_farge\", right_on=\"kode\", how=\"left\")\n",
    "df"
   ]
  },
  {
   "cell_type": "code",
   "execution_count": 84,
   "id": "0f9bea03-c0bf-4872-a868-11e5c0a7c2d3",
   "metadata": {},
   "outputs": [
    {
     "data": {
      "text/html": [
       "<div><style>\n",
       ".dataframe > thead > tr,\n",
       ".dataframe > tbody > tr {\n",
       "  text-align: right;\n",
       "  white-space: pre-wrap;\n",
       "}\n",
       "</style>\n",
       "<small>shape: (2_692_915, 14)</small><table border=\"1\" class=\"dataframe\"><thead><tr><th>id</th><th>tekn_reg_f_g</th><th>tekn_reg_f_g_n</th><th>tekn_reg_eier_dato</th><th>tekn_merke</th><th>tekn_kjtgrp</th><th>tekn_modell</th><th>tekn_drivstoff</th><th>tekn_siste_pkk</th><th>tekn_neste_pkk</th><th>tekn_aksler_drift</th><th>tekn_sitteplasser_totalt</th><th>farge_navn</th><th>tekn_farge</th></tr><tr><td>u32</td><td>date</td><td>date</td><td>date</td><td>i64</td><td>i64</td><td>str</td><td>str</td><td>date</td><td>date</td><td>i64</td><td>i64</td><td>str</td><td>str</td></tr></thead><tbody><tr><td>0</td><td>2021-10-13</td><td>2021-10-13</td><td>2021-10-13</td><td>3900</td><td>315</td><td>&quot;VITO&quot;</td><td>&quot;2&quot;</td><td>null</td><td>2025-10-13</td><td>2</td><td>3</td><td>&quot;Grå&quot;</td><td>&quot;05&quot;</td></tr><tr><td>1</td><td>2020-01-29</td><td>2020-01-29</td><td>2020-01-29</td><td>5750</td><td>315</td><td>&quot;CADDY&quot;</td><td>&quot;2&quot;</td><td>2023-12-05</td><td>2026-01-29</td><td>2</td><td>2</td><td>&quot;Svart (også bl…</td><td>&quot;06&quot;</td></tr><tr><td>12</td><td>2014-12-18</td><td>2014-12-18</td><td>2023-05-02</td><td>5480</td><td>101</td><td>&quot;RAV4&quot;</td><td>&quot;2&quot;</td><td>2022-06-01</td><td>2024-06-30</td><td>2</td><td>5</td><td>&quot;Svart (også bl…</td><td>&quot;06&quot;</td></tr><tr><td>23</td><td>2021-10-26</td><td>2021-10-26</td><td>2021-10-26</td><td>5800</td><td>365</td><td>&quot;FH&quot;</td><td>&quot;2&quot;</td><td>null</td><td>null</td><td>2</td><td>2</td><td>&quot;Gul (også oker…</td><td>&quot;09&quot;</td></tr><tr><td>28</td><td>2015-06-26</td><td>2015-08-10</td><td>2015-08-10</td><td>3450</td><td>101</td><td>&quot;SOUL&quot;</td><td>&quot;5&quot;</td><td>2022-11-17</td><td>2024-11-17</td><td>1</td><td>5</td><td>&quot;Grå&quot;</td><td>&quot;05&quot;</td></tr><tr><td>&hellip;</td><td>&hellip;</td><td>&hellip;</td><td>&hellip;</td><td>&hellip;</td><td>&hellip;</td><td>&hellip;</td><td>&hellip;</td><td>&hellip;</td><td>&hellip;</td><td>&hellip;</td><td>&hellip;</td><td>&hellip;</td><td>&hellip;</td></tr><tr><td>2692880</td><td>2020-09-01</td><td>2020-09-01</td><td>2024-02-01</td><td>4360</td><td>101</td><td>&quot;Model 3&quot;</td><td>&quot;5,5&quot;</td><td>null</td><td>2024-09-01</td><td>2</td><td>5</td><td>&quot;Svart (også bl…</td><td>&quot;06&quot;</td></tr><tr><td>2692886</td><td>2021-08-09</td><td>2021-08-09</td><td>2021-08-09</td><td>258</td><td>316</td><td>&quot;KW 18&quot;</td><td>&quot;2&quot;</td><td>null</td><td>2025-08-09</td><td>1</td><td>4</td><td>&quot;Blå&quot;</td><td>&quot;03&quot;</td></tr><tr><td>2692894</td><td>2006-03-07</td><td>2006-03-07</td><td>2023-09-11</td><td>5750</td><td>101</td><td>&quot;PASSAT&quot;</td><td>&quot;2&quot;</td><td>2019-02-22</td><td>2020-10-31</td><td>0</td><td>5</td><td>&quot;Grå&quot;</td><td>&quot;05&quot;</td></tr><tr><td>2692902</td><td>2021-08-19</td><td>2021-08-19</td><td>2021-08-19</td><td>3900</td><td>361</td><td>&quot;Sprinter&quot;</td><td>&quot;2&quot;</td><td>2023-08-14</td><td>2024-08-19</td><td>1</td><td>2</td><td>&quot;Gul (også oker…</td><td>&quot;09&quot;</td></tr><tr><td>2692914</td><td>2004-09-21</td><td>2004-09-21</td><td>2014-01-20</td><td>5750</td><td>101</td><td>&quot;POLO&quot;</td><td>&quot;1&quot;</td><td>2014-10-17</td><td>null</td><td>0</td><td>5</td><td>&quot;Sølv (også søl…</td><td>&quot;11&quot;</td></tr></tbody></table></div>"
      ],
      "text/plain": [
       "shape: (2_692_915, 14)\n",
       "┌─────────┬──────────────┬────────────────┬────────────────────┬───┬───────────────────┬──────────────────────────┬───────────────────────────────────┬────────────┐\n",
       "│ id      ┆ tekn_reg_f_g ┆ tekn_reg_f_g_n ┆ tekn_reg_eier_dato ┆ … ┆ tekn_aksler_drift ┆ tekn_sitteplasser_totalt ┆ farge_navn                        ┆ tekn_farge │\n",
       "│ ---     ┆ ---          ┆ ---            ┆ ---                ┆   ┆ ---               ┆ ---                      ┆ ---                               ┆ ---        │\n",
       "│ u32     ┆ date         ┆ date           ┆ date               ┆   ┆ i64               ┆ i64                      ┆ str                               ┆ str        │\n",
       "╞═════════╪══════════════╪════════════════╪════════════════════╪═══╪═══════════════════╪══════════════════════════╪═══════════════════════════════════╪════════════╡\n",
       "│ 0       ┆ 2021-10-13   ┆ 2021-10-13     ┆ 2021-10-13         ┆ … ┆ 2                 ┆ 3                        ┆ Grå                               ┆ 05         │\n",
       "│ 1       ┆ 2020-01-29   ┆ 2020-01-29     ┆ 2020-01-29         ┆ … ┆ 2                 ┆ 2                        ┆ Svart (også blåsvart, grafitt mø… ┆ 06         │\n",
       "│ 12      ┆ 2014-12-18   ┆ 2014-12-18     ┆ 2023-05-02         ┆ … ┆ 2                 ┆ 5                        ┆ Svart (også blåsvart, grafitt mø… ┆ 06         │\n",
       "│ 23      ┆ 2021-10-26   ┆ 2021-10-26     ┆ 2021-10-26         ┆ … ┆ 2                 ┆ 2                        ┆ Gul (også oker, sennep, elfenben… ┆ 09         │\n",
       "│ 28      ┆ 2015-06-26   ┆ 2015-08-10     ┆ 2015-08-10         ┆ … ┆ 1                 ┆ 5                        ┆ Grå                               ┆ 05         │\n",
       "│ …       ┆ …            ┆ …              ┆ …                  ┆ … ┆ …                 ┆ …                        ┆ …                                 ┆ …          │\n",
       "│ 2692880 ┆ 2020-09-01   ┆ 2020-09-01     ┆ 2024-02-01         ┆ … ┆ 2                 ┆ 5                        ┆ Svart (også blåsvart, grafitt mø… ┆ 06         │\n",
       "│ 2692886 ┆ 2021-08-09   ┆ 2021-08-09     ┆ 2021-08-09         ┆ … ┆ 1                 ┆ 4                        ┆ Blå                               ┆ 03         │\n",
       "│ 2692894 ┆ 2006-03-07   ┆ 2006-03-07     ┆ 2023-09-11         ┆ … ┆ 0                 ┆ 5                        ┆ Grå                               ┆ 05         │\n",
       "│ 2692902 ┆ 2021-08-19   ┆ 2021-08-19     ┆ 2021-08-19         ┆ … ┆ 1                 ┆ 2                        ┆ Gul (også oker, sennep, elfenben… ┆ 09         │\n",
       "│ 2692914 ┆ 2004-09-21   ┆ 2004-09-21     ┆ 2014-01-20         ┆ … ┆ 0                 ┆ 5                        ┆ Sølv (også sølv metallic)         ┆ 11         │\n",
       "└─────────┴──────────────┴────────────────┴────────────────────┴───┴───────────────────┴──────────────────────────┴───────────────────────────────────┴────────────┘"
      ]
     },
     "execution_count": 84,
     "metadata": {},
     "output_type": "execute_result"
    }
   ],
   "source": [
    "df = df.group_by(pl.col(\"*\").exclude(\"tekn_farge\", \"farge_navn\")).agg(\n",
    "    pl.col(\"farge_navn\"),\n",
    "    pl.col(\"tekn_farge\"),\n",
    ").with_columns(\n",
    "    pl.col(\"farge_navn\").list.join(\",\"),\n",
    "    pl.col(\"tekn_farge\").list.join(\",\")\n",
    ")\n",
    "df"
   ]
  },
  {
   "cell_type": "code",
   "execution_count": 85,
   "id": "77d1f991-46bb-482c-9518-9127cb5b8d8d",
   "metadata": {},
   "outputs": [
    {
     "data": {
      "text/html": [
       "<div><style>\n",
       ".dataframe > thead > tr,\n",
       ".dataframe > tbody > tr {\n",
       "  text-align: right;\n",
       "  white-space: pre-wrap;\n",
       "}\n",
       "</style>\n",
       "<small>shape: (18, 2)</small><table border=\"1\" class=\"dataframe\"><thead><tr><th>kode</th><th>navn</th></tr><tr><td>str</td><td>str</td></tr></thead><tbody><tr><td>&quot;1&quot;</td><td>&quot;Bensin&quot;</td></tr><tr><td>&quot;2&quot;</td><td>&quot;Diesel&quot;</td></tr><tr><td>&quot;3&quot;</td><td>&quot;Parafin&quot;</td></tr><tr><td>&quot;4&quot;</td><td>&quot;Gass&quot;</td></tr><tr><td>&quot;5&quot;</td><td>&quot;Elektrisk&quot;</td></tr><tr><td>&hellip;</td><td>&hellip;</td></tr><tr><td>&quot;16&quot;</td><td>&quot;LPG-A&quot;</td></tr><tr><td>&quot;17&quot;</td><td>&quot;LPG-B&quot;</td></tr><tr><td>&quot;18&quot;</td><td>&quot;CNG 20&quot;</td></tr><tr><td>&quot;19&quot;</td><td>&quot;CNG 25&quot;</td></tr><tr><td>&quot;20&quot;</td><td>&quot;Komprimert luf…</td></tr></tbody></table></div>"
      ],
      "text/plain": [
       "shape: (18, 2)\n",
       "┌──────┬─────────────────┐\n",
       "│ kode ┆ navn            │\n",
       "│ ---  ┆ ---             │\n",
       "│ str  ┆ str             │\n",
       "╞══════╪═════════════════╡\n",
       "│ 1    ┆ Bensin          │\n",
       "│ 2    ┆ Diesel          │\n",
       "│ 3    ┆ Parafin         │\n",
       "│ 4    ┆ Gass            │\n",
       "│ 5    ┆ Elektrisk       │\n",
       "│ …    ┆ …               │\n",
       "│ 16   ┆ LPG-A           │\n",
       "│ 17   ┆ LPG-B           │\n",
       "│ 18   ┆ CNG 20          │\n",
       "│ 19   ┆ CNG 25          │\n",
       "│ 20   ┆ Komprimert luft │\n",
       "└──────┴─────────────────┘"
      ]
     },
     "execution_count": 85,
     "metadata": {},
     "output_type": "execute_result"
    }
   ],
   "source": [
    "df_L = pl.read_csv(\"C:/Users/gggem/Downloads/drivstoffkoder.csv\", separator=\";\").with_columns(\n",
    "    pl.col(\"kode\").cast(pl.String)\n",
    ")\n",
    "df_L"
   ]
  },
  {
   "cell_type": "code",
   "execution_count": 86,
   "id": "dfe9c63f-0056-4abd-b81d-dd1ec1d70546",
   "metadata": {},
   "outputs": [
    {
     "data": {
      "text/html": [
       "<div><style>\n",
       ".dataframe > thead > tr,\n",
       ".dataframe > tbody > tr {\n",
       "  text-align: right;\n",
       "  white-space: pre-wrap;\n",
       "}\n",
       "</style>\n",
       "<small>shape: (2_692_915, 16)</small><table border=\"1\" class=\"dataframe\"><thead><tr><th>id</th><th>tekn_reg_f_g</th><th>tekn_reg_f_g_n</th><th>tekn_reg_eier_dato</th><th>tekn_merke</th><th>tekn_kjtgrp</th><th>tekn_modell</th><th>tekn_drivstoff</th><th>tekn_siste_pkk</th><th>tekn_neste_pkk</th><th>tekn_aksler_drift</th><th>tekn_sitteplasser_totalt</th><th>farge_navn</th><th>tekn_farge</th><th>kode</th><th>navn</th></tr><tr><td>u32</td><td>date</td><td>date</td><td>date</td><td>i64</td><td>i64</td><td>str</td><td>str</td><td>date</td><td>date</td><td>i64</td><td>i64</td><td>str</td><td>str</td><td>str</td><td>str</td></tr></thead><tbody><tr><td>0</td><td>2021-10-13</td><td>2021-10-13</td><td>2021-10-13</td><td>3900</td><td>315</td><td>&quot;VITO&quot;</td><td>&quot;2&quot;</td><td>null</td><td>2025-10-13</td><td>2</td><td>3</td><td>&quot;Grå&quot;</td><td>&quot;05&quot;</td><td>&quot;2&quot;</td><td>&quot;Diesel&quot;</td></tr><tr><td>1</td><td>2020-01-29</td><td>2020-01-29</td><td>2020-01-29</td><td>5750</td><td>315</td><td>&quot;CADDY&quot;</td><td>&quot;2&quot;</td><td>2023-12-05</td><td>2026-01-29</td><td>2</td><td>2</td><td>&quot;Svart (også bl…</td><td>&quot;06&quot;</td><td>&quot;2&quot;</td><td>&quot;Diesel&quot;</td></tr><tr><td>12</td><td>2014-12-18</td><td>2014-12-18</td><td>2023-05-02</td><td>5480</td><td>101</td><td>&quot;RAV4&quot;</td><td>&quot;2&quot;</td><td>2022-06-01</td><td>2024-06-30</td><td>2</td><td>5</td><td>&quot;Svart (også bl…</td><td>&quot;06&quot;</td><td>&quot;2&quot;</td><td>&quot;Diesel&quot;</td></tr><tr><td>23</td><td>2021-10-26</td><td>2021-10-26</td><td>2021-10-26</td><td>5800</td><td>365</td><td>&quot;FH&quot;</td><td>&quot;2&quot;</td><td>null</td><td>null</td><td>2</td><td>2</td><td>&quot;Gul (også oker…</td><td>&quot;09&quot;</td><td>&quot;2&quot;</td><td>&quot;Diesel&quot;</td></tr><tr><td>28</td><td>2015-06-26</td><td>2015-08-10</td><td>2015-08-10</td><td>3450</td><td>101</td><td>&quot;SOUL&quot;</td><td>&quot;5&quot;</td><td>2022-11-17</td><td>2024-11-17</td><td>1</td><td>5</td><td>&quot;Grå&quot;</td><td>&quot;05&quot;</td><td>&quot;5&quot;</td><td>&quot;Elektrisk&quot;</td></tr><tr><td>&hellip;</td><td>&hellip;</td><td>&hellip;</td><td>&hellip;</td><td>&hellip;</td><td>&hellip;</td><td>&hellip;</td><td>&hellip;</td><td>&hellip;</td><td>&hellip;</td><td>&hellip;</td><td>&hellip;</td><td>&hellip;</td><td>&hellip;</td><td>&hellip;</td><td>&hellip;</td></tr><tr><td>2692880</td><td>2020-09-01</td><td>2020-09-01</td><td>2024-02-01</td><td>4360</td><td>101</td><td>&quot;Model 3&quot;</td><td>&quot;5,5&quot;</td><td>null</td><td>2024-09-01</td><td>2</td><td>5</td><td>&quot;Svart (også bl…</td><td>&quot;06&quot;</td><td>&quot;5,5&quot;</td><td>null</td></tr><tr><td>2692886</td><td>2021-08-09</td><td>2021-08-09</td><td>2021-08-09</td><td>258</td><td>316</td><td>&quot;KW 18&quot;</td><td>&quot;2&quot;</td><td>null</td><td>2025-08-09</td><td>1</td><td>4</td><td>&quot;Blå&quot;</td><td>&quot;03&quot;</td><td>&quot;2&quot;</td><td>&quot;Diesel&quot;</td></tr><tr><td>2692894</td><td>2006-03-07</td><td>2006-03-07</td><td>2023-09-11</td><td>5750</td><td>101</td><td>&quot;PASSAT&quot;</td><td>&quot;2&quot;</td><td>2019-02-22</td><td>2020-10-31</td><td>0</td><td>5</td><td>&quot;Grå&quot;</td><td>&quot;05&quot;</td><td>&quot;2&quot;</td><td>&quot;Diesel&quot;</td></tr><tr><td>2692902</td><td>2021-08-19</td><td>2021-08-19</td><td>2021-08-19</td><td>3900</td><td>361</td><td>&quot;Sprinter&quot;</td><td>&quot;2&quot;</td><td>2023-08-14</td><td>2024-08-19</td><td>1</td><td>2</td><td>&quot;Gul (også oker…</td><td>&quot;09&quot;</td><td>&quot;2&quot;</td><td>&quot;Diesel&quot;</td></tr><tr><td>2692914</td><td>2004-09-21</td><td>2004-09-21</td><td>2014-01-20</td><td>5750</td><td>101</td><td>&quot;POLO&quot;</td><td>&quot;1&quot;</td><td>2014-10-17</td><td>null</td><td>0</td><td>5</td><td>&quot;Sølv (også søl…</td><td>&quot;11&quot;</td><td>&quot;1&quot;</td><td>&quot;Bensin&quot;</td></tr></tbody></table></div>"
      ],
      "text/plain": [
       "shape: (2_692_915, 16)\n",
       "┌─────────┬──────────────┬────────────────┬────────────────────┬───┬───────────────────────────────────┬────────────┬──────┬───────────┐\n",
       "│ id      ┆ tekn_reg_f_g ┆ tekn_reg_f_g_n ┆ tekn_reg_eier_dato ┆ … ┆ farge_navn                        ┆ tekn_farge ┆ kode ┆ navn      │\n",
       "│ ---     ┆ ---          ┆ ---            ┆ ---                ┆   ┆ ---                               ┆ ---        ┆ ---  ┆ ---       │\n",
       "│ u32     ┆ date         ┆ date           ┆ date               ┆   ┆ str                               ┆ str        ┆ str  ┆ str       │\n",
       "╞═════════╪══════════════╪════════════════╪════════════════════╪═══╪═══════════════════════════════════╪════════════╪══════╪═══════════╡\n",
       "│ 0       ┆ 2021-10-13   ┆ 2021-10-13     ┆ 2021-10-13         ┆ … ┆ Grå                               ┆ 05         ┆ 2    ┆ Diesel    │\n",
       "│ 1       ┆ 2020-01-29   ┆ 2020-01-29     ┆ 2020-01-29         ┆ … ┆ Svart (også blåsvart, grafitt mø… ┆ 06         ┆ 2    ┆ Diesel    │\n",
       "│ 12      ┆ 2014-12-18   ┆ 2014-12-18     ┆ 2023-05-02         ┆ … ┆ Svart (også blåsvart, grafitt mø… ┆ 06         ┆ 2    ┆ Diesel    │\n",
       "│ 23      ┆ 2021-10-26   ┆ 2021-10-26     ┆ 2021-10-26         ┆ … ┆ Gul (også oker, sennep, elfenben… ┆ 09         ┆ 2    ┆ Diesel    │\n",
       "│ 28      ┆ 2015-06-26   ┆ 2015-08-10     ┆ 2015-08-10         ┆ … ┆ Grå                               ┆ 05         ┆ 5    ┆ Elektrisk │\n",
       "│ …       ┆ …            ┆ …              ┆ …                  ┆ … ┆ …                                 ┆ …          ┆ …    ┆ …         │\n",
       "│ 2692880 ┆ 2020-09-01   ┆ 2020-09-01     ┆ 2024-02-01         ┆ … ┆ Svart (også blåsvart, grafitt mø… ┆ 06         ┆ 5,5  ┆ null      │\n",
       "│ 2692886 ┆ 2021-08-09   ┆ 2021-08-09     ┆ 2021-08-09         ┆ … ┆ Blå                               ┆ 03         ┆ 2    ┆ Diesel    │\n",
       "│ 2692894 ┆ 2006-03-07   ┆ 2006-03-07     ┆ 2023-09-11         ┆ … ┆ Grå                               ┆ 05         ┆ 2    ┆ Diesel    │\n",
       "│ 2692902 ┆ 2021-08-19   ┆ 2021-08-19     ┆ 2021-08-19         ┆ … ┆ Gul (også oker, sennep, elfenben… ┆ 09         ┆ 2    ┆ Diesel    │\n",
       "│ 2692914 ┆ 2004-09-21   ┆ 2004-09-21     ┆ 2014-01-20         ┆ … ┆ Sølv (også sølv metallic)         ┆ 11         ┆ 1    ┆ Bensin    │\n",
       "└─────────┴──────────────┴────────────────┴────────────────────┴───┴───────────────────────────────────┴────────────┴──────┴───────────┘"
      ]
     },
     "execution_count": 86,
     "metadata": {},
     "output_type": "execute_result"
    }
   ],
   "source": [
    "df_d = df.select(\n",
    "    pl.col(\"*\"), pl.col(\"tekn_drivstoff\").alias(\"kode\")\n",
    "    ).join(\n",
    "    df_L.select(\n",
    "        pl.col(\"kode\"), pl.col(\"navn\")\n",
    "    ), on=\"kode\", how=\"left\")\n",
    "df_d"
   ]
  },
  {
   "cell_type": "code",
   "execution_count": 87,
   "id": "4e55f9a9-ab7d-4526-947e-424cb5498993",
   "metadata": {},
   "outputs": [
    {
     "data": {
      "text/html": [
       "<div><style>\n",
       ".dataframe > thead > tr,\n",
       ".dataframe > tbody > tr {\n",
       "  text-align: right;\n",
       "  white-space: pre-wrap;\n",
       "}\n",
       "</style>\n",
       "<small>shape: (2_692_915, 17)</small><table border=\"1\" class=\"dataframe\"><thead><tr><th>id</th><th>tekn_reg_f_g</th><th>tekn_reg_f_g_n</th><th>tekn_reg_eier_dato</th><th>tekn_merke</th><th>tekn_kjtgrp</th><th>tekn_modell</th><th>tekn_drivstoff</th><th>tekn_siste_pkk</th><th>tekn_neste_pkk</th><th>tekn_aksler_drift</th><th>tekn_sitteplasser_totalt</th><th>farge_navn</th><th>tekn_farge</th><th>kode</th><th>navn</th><th>elbil?</th></tr><tr><td>u32</td><td>date</td><td>date</td><td>date</td><td>i64</td><td>i64</td><td>str</td><td>str</td><td>date</td><td>date</td><td>i64</td><td>i64</td><td>str</td><td>str</td><td>str</td><td>str</td><td>bool</td></tr></thead><tbody><tr><td>425</td><td>2015-09-17</td><td>2015-09-17</td><td>2020-01-25</td><td>65</td><td>101</td><td>&quot;Model S&quot;</td><td>&quot;5&quot;</td><td>2023-01-17</td><td>2025-02-28</td><td>2</td><td>5</td><td>&quot;Grå&quot;</td><td>&quot;05&quot;</td><td>&quot;5&quot;</td><td>&quot;Elektrisk&quot;</td><td>true</td></tr><tr><td>691</td><td>2023-10-03</td><td>2023-10-03</td><td>2023-10-03</td><td>3900</td><td>101</td><td>&quot;EQA 300 4MATIC…</td><td>&quot;5&quot;</td><td>null</td><td>2027-10-03</td><td>2</td><td>5</td><td>&quot;Svart (også bl…</td><td>&quot;06&quot;</td><td>&quot;5&quot;</td><td>&quot;Elektrisk&quot;</td><td>true</td></tr><tr><td>1464</td><td>2022-01-24</td><td>2022-01-24</td><td>2022-01-24</td><td>3900</td><td>101</td><td>&quot;EQC 400 4MATIC…</td><td>&quot;5&quot;</td><td>null</td><td>2026-01-24</td><td>2</td><td>5</td><td>&quot;Blå&quot;</td><td>&quot;03&quot;</td><td>&quot;5&quot;</td><td>&quot;Elektrisk&quot;</td><td>true</td></tr><tr><td>1544</td><td>2015-10-28</td><td>2015-10-28</td><td>2015-10-28</td><td>5750</td><td>101</td><td>&quot;GOLF&quot;</td><td>&quot;5&quot;</td><td>2023-02-20</td><td>2025-02-20</td><td>1</td><td>5</td><td>&quot;Svart (også bl…</td><td>&quot;06&quot;</td><td>&quot;5&quot;</td><td>&quot;Elektrisk&quot;</td><td>true</td></tr><tr><td>1592</td><td>2021-05-26</td><td>2021-05-26</td><td>2023-03-23</td><td>2600</td><td>101</td><td>&quot;Mustang Mach-E…</td><td>&quot;5&quot;</td><td>null</td><td>2025-05-26</td><td>2</td><td>5</td><td>&quot;Blå&quot;</td><td>&quot;03&quot;</td><td>&quot;5&quot;</td><td>&quot;Elektrisk&quot;</td><td>true</td></tr><tr><td>&hellip;</td><td>&hellip;</td><td>&hellip;</td><td>&hellip;</td><td>&hellip;</td><td>&hellip;</td><td>&hellip;</td><td>&hellip;</td><td>&hellip;</td><td>&hellip;</td><td>&hellip;</td><td>&hellip;</td><td>&hellip;</td><td>&hellip;</td><td>&hellip;</td><td>&hellip;</td><td>&hellip;</td></tr><tr><td>2692794</td><td>2010-04-07</td><td>2010-04-07</td><td>2015-03-11</td><td>7740</td><td>620</td><td>&quot;HONDA VFR1200F…</td><td>&quot;1&quot;</td><td>null</td><td>null</td><td>1</td><td>2</td><td>&quot;Rød (også burg…</td><td>&quot;02&quot;</td><td>&quot;1&quot;</td><td>&quot;Bensin&quot;</td><td>false</td></tr><tr><td>2692806</td><td>2017-01-06</td><td>2017-01-06</td><td>2020-04-28</td><td>8380</td><td>101</td><td>&quot;S-Cross&quot;</td><td>&quot;1&quot;</td><td>2023-09-22</td><td>2025-09-22</td><td>2</td><td>5</td><td>&quot;Grå&quot;</td><td>&quot;05&quot;</td><td>&quot;1&quot;</td><td>&quot;Bensin&quot;</td><td>false</td></tr><tr><td>2692876</td><td>2019-04-24</td><td>2019-04-24</td><td>2023-03-17</td><td>3900</td><td>101</td><td>&quot;E 300 de&quot;</td><td>&quot;2,5&quot;</td><td>2023-03-15</td><td>2025-04-24</td><td>1</td><td>5</td><td>&quot;Grå&quot;</td><td>&quot;05&quot;</td><td>&quot;2,5&quot;</td><td>null</td><td>false</td></tr><tr><td>2692894</td><td>2006-03-07</td><td>2006-03-07</td><td>2023-09-11</td><td>5750</td><td>101</td><td>&quot;PASSAT&quot;</td><td>&quot;2&quot;</td><td>2019-02-22</td><td>2020-10-31</td><td>0</td><td>5</td><td>&quot;Grå&quot;</td><td>&quot;05&quot;</td><td>&quot;2&quot;</td><td>&quot;Diesel&quot;</td><td>false</td></tr><tr><td>2692914</td><td>2004-09-21</td><td>2004-09-21</td><td>2014-01-20</td><td>5750</td><td>101</td><td>&quot;POLO&quot;</td><td>&quot;1&quot;</td><td>2014-10-17</td><td>null</td><td>0</td><td>5</td><td>&quot;Sølv (også søl…</td><td>&quot;11&quot;</td><td>&quot;1&quot;</td><td>&quot;Bensin&quot;</td><td>false</td></tr></tbody></table></div>"
      ],
      "text/plain": [
       "shape: (2_692_915, 17)\n",
       "┌─────────┬──────────────┬────────────────┬────────────────────┬───┬────────────┬──────┬───────────┬────────┐\n",
       "│ id      ┆ tekn_reg_f_g ┆ tekn_reg_f_g_n ┆ tekn_reg_eier_dato ┆ … ┆ tekn_farge ┆ kode ┆ navn      ┆ elbil? │\n",
       "│ ---     ┆ ---          ┆ ---            ┆ ---                ┆   ┆ ---        ┆ ---  ┆ ---       ┆ ---    │\n",
       "│ u32     ┆ date         ┆ date           ┆ date               ┆   ┆ str        ┆ str  ┆ str       ┆ bool   │\n",
       "╞═════════╪══════════════╪════════════════╪════════════════════╪═══╪════════════╪══════╪═══════════╪════════╡\n",
       "│ 425     ┆ 2015-09-17   ┆ 2015-09-17     ┆ 2020-01-25         ┆ … ┆ 05         ┆ 5    ┆ Elektrisk ┆ true   │\n",
       "│ 691     ┆ 2023-10-03   ┆ 2023-10-03     ┆ 2023-10-03         ┆ … ┆ 06         ┆ 5    ┆ Elektrisk ┆ true   │\n",
       "│ 1464    ┆ 2022-01-24   ┆ 2022-01-24     ┆ 2022-01-24         ┆ … ┆ 03         ┆ 5    ┆ Elektrisk ┆ true   │\n",
       "│ 1544    ┆ 2015-10-28   ┆ 2015-10-28     ┆ 2015-10-28         ┆ … ┆ 06         ┆ 5    ┆ Elektrisk ┆ true   │\n",
       "│ 1592    ┆ 2021-05-26   ┆ 2021-05-26     ┆ 2023-03-23         ┆ … ┆ 03         ┆ 5    ┆ Elektrisk ┆ true   │\n",
       "│ …       ┆ …            ┆ …              ┆ …                  ┆ … ┆ …          ┆ …    ┆ …         ┆ …      │\n",
       "│ 2692794 ┆ 2010-04-07   ┆ 2010-04-07     ┆ 2015-03-11         ┆ … ┆ 02         ┆ 1    ┆ Bensin    ┆ false  │\n",
       "│ 2692806 ┆ 2017-01-06   ┆ 2017-01-06     ┆ 2020-04-28         ┆ … ┆ 05         ┆ 1    ┆ Bensin    ┆ false  │\n",
       "│ 2692876 ┆ 2019-04-24   ┆ 2019-04-24     ┆ 2023-03-17         ┆ … ┆ 05         ┆ 2,5  ┆ null      ┆ false  │\n",
       "│ 2692894 ┆ 2006-03-07   ┆ 2006-03-07     ┆ 2023-09-11         ┆ … ┆ 05         ┆ 2    ┆ Diesel    ┆ false  │\n",
       "│ 2692914 ┆ 2004-09-21   ┆ 2004-09-21     ┆ 2014-01-20         ┆ … ┆ 11         ┆ 1    ┆ Bensin    ┆ false  │\n",
       "└─────────┴──────────────┴────────────────┴────────────────────┴───┴────────────┴──────┴───────────┴────────┘"
      ]
     },
     "execution_count": 87,
     "metadata": {},
     "output_type": "execute_result"
    }
   ],
   "source": [
    "df_d.group_by(\"*\").agg(\n",
    "    (pl.col(\"tekn_drivstoff\") == \"5\").any().alias(\"elbil?\")\n",
    ").sort(\"elbil?\", descending=True)"
   ]
  },
  {
   "cell_type": "code",
   "execution_count": 116,
   "id": "37a5da59-fcbf-42c2-9127-2faa24d5e935",
   "metadata": {},
   "outputs": [
    {
     "data": {
      "text/html": [
       "<div><style>\n",
       ".dataframe > thead > tr,\n",
       ".dataframe > tbody > tr {\n",
       "  text-align: right;\n",
       "  white-space: pre-wrap;\n",
       "}\n",
       "</style>\n",
       "<small>shape: (2_692_915, 14)</small><table border=\"1\" class=\"dataframe\"><thead><tr><th>id</th><th>tekn_reg_f_g_n</th><th>tekn_reg_eier_dato</th><th>tekn_aksler_drift</th><th>tekn_merke</th><th>tekn_modell</th><th>tekn_drivstoff</th><th>tekn_sitteplasser_totalt</th><th>tekn_kjtgrp</th><th>tekn_neste_pkk</th><th>tekn_farge</th><th>kode</th><th>farge_navn</th><th>navn</th></tr><tr><td>u32</td><td>date</td><td>date</td><td>i64</td><td>i64</td><td>str</td><td>str</td><td>i64</td><td>i64</td><td>date</td><td>str</td><td>str</td><td>str</td><td>str</td></tr></thead><tbody><tr><td>0</td><td>2021-10-13</td><td>2021-10-13</td><td>2</td><td>3900</td><td>&quot;VITO&quot;</td><td>&quot;2&quot;</td><td>3</td><td>315</td><td>2025-10-13</td><td>&quot;05&quot;</td><td>&quot;2&quot;</td><td>&quot;Grå&quot;</td><td>&quot;Diesel&quot;</td></tr><tr><td>1</td><td>2020-01-29</td><td>2020-01-29</td><td>2</td><td>5750</td><td>&quot;CADDY&quot;</td><td>&quot;2&quot;</td><td>2</td><td>315</td><td>2026-01-29</td><td>&quot;06&quot;</td><td>&quot;2&quot;</td><td>&quot;Svart (også bl…</td><td>&quot;Diesel&quot;</td></tr><tr><td>12</td><td>2014-12-18</td><td>2023-05-02</td><td>2</td><td>5480</td><td>&quot;RAV4&quot;</td><td>&quot;2&quot;</td><td>5</td><td>101</td><td>2024-06-30</td><td>&quot;06&quot;</td><td>&quot;2&quot;</td><td>&quot;Svart (også bl…</td><td>&quot;Diesel&quot;</td></tr><tr><td>23</td><td>2021-10-26</td><td>2021-10-26</td><td>2</td><td>5800</td><td>&quot;FH&quot;</td><td>&quot;2&quot;</td><td>2</td><td>365</td><td>null</td><td>&quot;09&quot;</td><td>&quot;2&quot;</td><td>&quot;Gul (også oker…</td><td>&quot;Diesel&quot;</td></tr><tr><td>28</td><td>2015-08-10</td><td>2015-08-10</td><td>1</td><td>3450</td><td>&quot;SOUL&quot;</td><td>&quot;5&quot;</td><td>5</td><td>101</td><td>2024-11-17</td><td>&quot;05&quot;</td><td>&quot;5&quot;</td><td>&quot;Grå&quot;</td><td>&quot;Elektrisk&quot;</td></tr><tr><td>&hellip;</td><td>&hellip;</td><td>&hellip;</td><td>&hellip;</td><td>&hellip;</td><td>&hellip;</td><td>&hellip;</td><td>&hellip;</td><td>&hellip;</td><td>&hellip;</td><td>&hellip;</td><td>&hellip;</td><td>&hellip;</td><td>&hellip;</td></tr><tr><td>2692880</td><td>2020-09-01</td><td>2024-02-01</td><td>2</td><td>4360</td><td>&quot;Model 3&quot;</td><td>&quot;5,5&quot;</td><td>5</td><td>101</td><td>2024-09-01</td><td>&quot;06&quot;</td><td>&quot;5,5&quot;</td><td>&quot;Svart (også bl…</td><td>null</td></tr><tr><td>2692886</td><td>2021-08-09</td><td>2021-08-09</td><td>1</td><td>258</td><td>&quot;KW 18&quot;</td><td>&quot;2&quot;</td><td>4</td><td>316</td><td>2025-08-09</td><td>&quot;03&quot;</td><td>&quot;2&quot;</td><td>&quot;Blå&quot;</td><td>&quot;Diesel&quot;</td></tr><tr><td>2692894</td><td>2006-03-07</td><td>2023-09-11</td><td>0</td><td>5750</td><td>&quot;PASSAT&quot;</td><td>&quot;2&quot;</td><td>5</td><td>101</td><td>2020-10-31</td><td>&quot;05&quot;</td><td>&quot;2&quot;</td><td>&quot;Grå&quot;</td><td>&quot;Diesel&quot;</td></tr><tr><td>2692902</td><td>2021-08-19</td><td>2021-08-19</td><td>1</td><td>3900</td><td>&quot;Sprinter&quot;</td><td>&quot;2&quot;</td><td>2</td><td>361</td><td>2024-08-19</td><td>&quot;09&quot;</td><td>&quot;2&quot;</td><td>&quot;Gul (også oker…</td><td>&quot;Diesel&quot;</td></tr><tr><td>2692914</td><td>2004-09-21</td><td>2014-01-20</td><td>0</td><td>5750</td><td>&quot;POLO&quot;</td><td>&quot;1&quot;</td><td>5</td><td>101</td><td>null</td><td>&quot;11&quot;</td><td>&quot;1&quot;</td><td>&quot;Sølv (også søl…</td><td>&quot;Bensin&quot;</td></tr></tbody></table></div>"
      ],
      "text/plain": [
       "shape: (2_692_915, 14)\n",
       "┌─────────┬────────────────┬────────────────────┬───────────────────┬───┬────────────┬──────┬───────────────────────────────────┬───────────┐\n",
       "│ id      ┆ tekn_reg_f_g_n ┆ tekn_reg_eier_dato ┆ tekn_aksler_drift ┆ … ┆ tekn_farge ┆ kode ┆ farge_navn                        ┆ navn      │\n",
       "│ ---     ┆ ---            ┆ ---                ┆ ---               ┆   ┆ ---        ┆ ---  ┆ ---                               ┆ ---       │\n",
       "│ u32     ┆ date           ┆ date               ┆ i64               ┆   ┆ str        ┆ str  ┆ str                               ┆ str       │\n",
       "╞═════════╪════════════════╪════════════════════╪═══════════════════╪═══╪════════════╪══════╪═══════════════════════════════════╪═══════════╡\n",
       "│ 0       ┆ 2021-10-13     ┆ 2021-10-13         ┆ 2                 ┆ … ┆ 05         ┆ 2    ┆ Grå                               ┆ Diesel    │\n",
       "│ 1       ┆ 2020-01-29     ┆ 2020-01-29         ┆ 2                 ┆ … ┆ 06         ┆ 2    ┆ Svart (også blåsvart, grafitt mø… ┆ Diesel    │\n",
       "│ 12      ┆ 2014-12-18     ┆ 2023-05-02         ┆ 2                 ┆ … ┆ 06         ┆ 2    ┆ Svart (også blåsvart, grafitt mø… ┆ Diesel    │\n",
       "│ 23      ┆ 2021-10-26     ┆ 2021-10-26         ┆ 2                 ┆ … ┆ 09         ┆ 2    ┆ Gul (også oker, sennep, elfenben… ┆ Diesel    │\n",
       "│ 28      ┆ 2015-08-10     ┆ 2015-08-10         ┆ 1                 ┆ … ┆ 05         ┆ 5    ┆ Grå                               ┆ Elektrisk │\n",
       "│ …       ┆ …              ┆ …                  ┆ …                 ┆ … ┆ …          ┆ …    ┆ …                                 ┆ …         │\n",
       "│ 2692880 ┆ 2020-09-01     ┆ 2024-02-01         ┆ 2                 ┆ … ┆ 06         ┆ 5,5  ┆ Svart (også blåsvart, grafitt mø… ┆ null      │\n",
       "│ 2692886 ┆ 2021-08-09     ┆ 2021-08-09         ┆ 1                 ┆ … ┆ 03         ┆ 2    ┆ Blå                               ┆ Diesel    │\n",
       "│ 2692894 ┆ 2006-03-07     ┆ 2023-09-11         ┆ 0                 ┆ … ┆ 05         ┆ 2    ┆ Grå                               ┆ Diesel    │\n",
       "│ 2692902 ┆ 2021-08-19     ┆ 2021-08-19         ┆ 1                 ┆ … ┆ 09         ┆ 2    ┆ Gul (også oker, sennep, elfenben… ┆ Diesel    │\n",
       "│ 2692914 ┆ 2004-09-21     ┆ 2014-01-20         ┆ 0                 ┆ … ┆ 11         ┆ 1    ┆ Sølv (også sølv metallic)         ┆ Bensin    │\n",
       "└─────────┴────────────────┴────────────────────┴───────────────────┴───┴────────────┴──────┴───────────────────────────────────┴───────────┘"
      ]
     },
     "execution_count": 116,
     "metadata": {},
     "output_type": "execute_result"
    }
   ],
   "source": [
    "df_semi = df_d.select(\n",
    "     pl.col(\"id\"),pl.col(\"tekn_reg_f_g_n\"), pl.col(\"tekn_reg_eier_dato\"), pl.col(\"tekn_aksler_drift\"), pl.col(\"tekn_merke\"),pl.col(\"tekn_modell\"),pl.col(\"tekn_drivstoff\"),pl.col(\"tekn_sitteplasser_totalt\"),pl.col(\"tekn_kjtgrp\"),pl.col(\"tekn_neste_pkk\"),pl.col(\"tekn_farge\"),pl.col(\"kode\"),pl.col(\"farge_navn\"),pl.col(\"navn\")\n",
    "    )\n",
    "df_semi"
   ]
  },
  {
   "cell_type": "code",
   "execution_count": 117,
   "id": "4a51ad43-d869-4d6c-aa93-07e843dc4816",
   "metadata": {},
   "outputs": [],
   "source": [
    "import pathlib"
   ]
  },
  {
   "cell_type": "code",
   "execution_count": 118,
   "id": "61ff186a-2910-4126-8ead-f08d8616a64a",
   "metadata": {},
   "outputs": [],
   "source": [
    "df_semi.write_parquet('C:/Users/gggem/Downloads/kjoretoyinfo_preppet.parquet')"
   ]
  }
 ],
 "metadata": {
  "kernelspec": {
   "display_name": "Python 3 (ipykernel)",
   "language": "python",
   "name": "python3"
  },
  "language_info": {
   "codemirror_mode": {
    "name": "ipython",
    "version": 3
   },
   "file_extension": ".py",
   "mimetype": "text/x-python",
   "name": "python",
   "nbconvert_exporter": "python",
   "pygments_lexer": "ipython3",
   "version": "3.10.0"
  }
 },
 "nbformat": 4,
 "nbformat_minor": 5
}
