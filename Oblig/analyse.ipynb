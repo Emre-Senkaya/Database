{
 "cells": [
  {
   "cell_type": "code",
   "execution_count": 1,
   "id": "1fe08a68-d8e6-4d43-bb43-1310a36fa268",
   "metadata": {},
   "outputs": [],
   "source": [
    "import polars as pl"
   ]
  },
  {
   "cell_type": "code",
   "execution_count": 22,
   "id": "d9cdc8ce-d8a4-43dd-9c88-9421e4202e9c",
   "metadata": {},
   "outputs": [
    {
     "data": {
      "text/html": [
       "<div><style>\n",
       ".dataframe > thead > tr,\n",
       ".dataframe > tbody > tr {\n",
       "  text-align: right;\n",
       "  white-space: pre-wrap;\n",
       "}\n",
       "</style>\n",
       "<small>shape: (29_398, 3)</small><table border=\"1\" class=\"dataframe\"><thead><tr><th>tekn_reg_f_g_n</th><th>tekn_drivstoff</th><th>tekn_sitteplasser_totalt</th></tr><tr><td>date</td><td>str</td><td>i64</td></tr></thead><tbody><tr><td>2022-12-23</td><td>&quot;5&quot;</td><td>5</td></tr><tr><td>2022-01-24</td><td>&quot;5&quot;</td><td>5</td></tr><tr><td>2022-02-15</td><td>&quot;5&quot;</td><td>5</td></tr><tr><td>2022-12-28</td><td>&quot;5&quot;</td><td>5</td></tr><tr><td>2022-12-07</td><td>&quot;5&quot;</td><td>5</td></tr><tr><td>&hellip;</td><td>&hellip;</td><td>&hellip;</td></tr><tr><td>2022-12-30</td><td>&quot;5&quot;</td><td>5</td></tr><tr><td>2022-12-19</td><td>&quot;5&quot;</td><td>5</td></tr><tr><td>2022-06-02</td><td>&quot;5&quot;</td><td>5</td></tr><tr><td>2022-06-14</td><td>&quot;5&quot;</td><td>5</td></tr><tr><td>2022-12-28</td><td>&quot;5&quot;</td><td>5</td></tr></tbody></table></div>"
      ],
      "text/plain": [
       "shape: (29_398, 3)\n",
       "┌────────────────┬────────────────┬──────────────────────────┐\n",
       "│ tekn_reg_f_g_n ┆ tekn_drivstoff ┆ tekn_sitteplasser_totalt │\n",
       "│ ---            ┆ ---            ┆ ---                      │\n",
       "│ date           ┆ str            ┆ i64                      │\n",
       "╞════════════════╪════════════════╪══════════════════════════╡\n",
       "│ 2022-12-23     ┆ 5              ┆ 5                        │\n",
       "│ 2022-01-24     ┆ 5              ┆ 5                        │\n",
       "│ 2022-02-15     ┆ 5              ┆ 5                        │\n",
       "│ 2022-12-28     ┆ 5              ┆ 5                        │\n",
       "│ 2022-12-07     ┆ 5              ┆ 5                        │\n",
       "│ …              ┆ …              ┆ …                        │\n",
       "│ 2022-12-30     ┆ 5              ┆ 5                        │\n",
       "│ 2022-12-19     ┆ 5              ┆ 5                        │\n",
       "│ 2022-06-02     ┆ 5              ┆ 5                        │\n",
       "│ 2022-06-14     ┆ 5              ┆ 5                        │\n",
       "│ 2022-12-28     ┆ 5              ┆ 5                        │\n",
       "└────────────────┴────────────────┴──────────────────────────┘"
      ]
     },
     "execution_count": 22,
     "metadata": {},
     "output_type": "execute_result"
    }
   ],
   "source": [
    "df = pl.scan_parquet(\"C:/Users/gggem/Downloads/kjoretoyinfo_preppet.parquet\")\n",
    "elbiler = df.select(\"tekn_reg_f_g_n\", \"tekn_drivstoff\", \"tekn_sitteplasser_totalt\").with_columns(\n",
    "    pl.col(\"tekn_reg_f_g_n\")\n",
    "    ).filter(\n",
    "        pl.col(\"tekn_drivstoff\").is_in([\"5\"])\n",
    "    ).filter(\n",
    "        pl.col(\"tekn_reg_f_g_n\").dt.year() == 2022\n",
    "     ).filter(\n",
    "        pl.col(\"tekn_sitteplasser_totalt\").is_in([5])\n",
    "    ).collect()\n",
    "elbiler"
   ]
  },
  {
   "cell_type": "code",
   "execution_count": 25,
   "id": "604f9be5-e3e2-45df-ace2-f563fbd06b29",
   "metadata": {},
   "outputs": [
    {
     "data": {
      "text/html": [
       "<div><style>\n",
       ".dataframe > thead > tr,\n",
       ".dataframe > tbody > tr {\n",
       "  text-align: right;\n",
       "  white-space: pre-wrap;\n",
       "}\n",
       "</style>\n",
       "<small>shape: (2_692_915, 14)</small><table border=\"1\" class=\"dataframe\"><thead><tr><th>id</th><th>tekn_reg_f_g_n</th><th>tekn_reg_eier_dato</th><th>tekn_aksler_drift</th><th>tekn_merke</th><th>tekn_modell</th><th>tekn_drivstoff</th><th>tekn_sitteplasser_totalt</th><th>tekn_kjtgrp</th><th>tekn_neste_pkk</th><th>tekn_farge</th><th>kode</th><th>farge_navn</th><th>navn</th></tr><tr><td>u32</td><td>date</td><td>date</td><td>i64</td><td>i64</td><td>str</td><td>str</td><td>i64</td><td>i64</td><td>date</td><td>str</td><td>str</td><td>str</td><td>str</td></tr></thead><tbody><tr><td>0</td><td>2021-10-13</td><td>2021-10-13</td><td>2</td><td>3900</td><td>&quot;VITO&quot;</td><td>&quot;2&quot;</td><td>3</td><td>315</td><td>2025-10-13</td><td>&quot;05&quot;</td><td>&quot;2&quot;</td><td>&quot;Grå&quot;</td><td>&quot;Diesel&quot;</td></tr><tr><td>1</td><td>2020-01-29</td><td>2020-01-29</td><td>2</td><td>5750</td><td>&quot;CADDY&quot;</td><td>&quot;2&quot;</td><td>2</td><td>315</td><td>2026-01-29</td><td>&quot;06&quot;</td><td>&quot;2&quot;</td><td>&quot;Svart (også bl…</td><td>&quot;Diesel&quot;</td></tr><tr><td>12</td><td>2014-12-18</td><td>2023-05-02</td><td>2</td><td>5480</td><td>&quot;RAV4&quot;</td><td>&quot;2&quot;</td><td>5</td><td>101</td><td>2024-06-30</td><td>&quot;06&quot;</td><td>&quot;2&quot;</td><td>&quot;Svart (også bl…</td><td>&quot;Diesel&quot;</td></tr><tr><td>23</td><td>2021-10-26</td><td>2021-10-26</td><td>2</td><td>5800</td><td>&quot;FH&quot;</td><td>&quot;2&quot;</td><td>2</td><td>365</td><td>null</td><td>&quot;09&quot;</td><td>&quot;2&quot;</td><td>&quot;Gul (også oker…</td><td>&quot;Diesel&quot;</td></tr><tr><td>28</td><td>2015-08-10</td><td>2015-08-10</td><td>1</td><td>3450</td><td>&quot;SOUL&quot;</td><td>&quot;5&quot;</td><td>5</td><td>101</td><td>2024-11-17</td><td>&quot;05&quot;</td><td>&quot;5&quot;</td><td>&quot;Grå&quot;</td><td>&quot;Elektrisk&quot;</td></tr><tr><td>&hellip;</td><td>&hellip;</td><td>&hellip;</td><td>&hellip;</td><td>&hellip;</td><td>&hellip;</td><td>&hellip;</td><td>&hellip;</td><td>&hellip;</td><td>&hellip;</td><td>&hellip;</td><td>&hellip;</td><td>&hellip;</td><td>&hellip;</td></tr><tr><td>2692880</td><td>2020-09-01</td><td>2024-02-01</td><td>2</td><td>4360</td><td>&quot;Model 3&quot;</td><td>&quot;5,5&quot;</td><td>5</td><td>101</td><td>2024-09-01</td><td>&quot;06&quot;</td><td>&quot;5,5&quot;</td><td>&quot;Svart (også bl…</td><td>null</td></tr><tr><td>2692886</td><td>2021-08-09</td><td>2021-08-09</td><td>1</td><td>258</td><td>&quot;KW 18&quot;</td><td>&quot;2&quot;</td><td>4</td><td>316</td><td>2025-08-09</td><td>&quot;03&quot;</td><td>&quot;2&quot;</td><td>&quot;Blå&quot;</td><td>&quot;Diesel&quot;</td></tr><tr><td>2692894</td><td>2006-03-07</td><td>2023-09-11</td><td>0</td><td>5750</td><td>&quot;PASSAT&quot;</td><td>&quot;2&quot;</td><td>5</td><td>101</td><td>2020-10-31</td><td>&quot;05&quot;</td><td>&quot;2&quot;</td><td>&quot;Grå&quot;</td><td>&quot;Diesel&quot;</td></tr><tr><td>2692902</td><td>2021-08-19</td><td>2021-08-19</td><td>1</td><td>3900</td><td>&quot;Sprinter&quot;</td><td>&quot;2&quot;</td><td>2</td><td>361</td><td>2024-08-19</td><td>&quot;09&quot;</td><td>&quot;2&quot;</td><td>&quot;Gul (også oker…</td><td>&quot;Diesel&quot;</td></tr><tr><td>2692914</td><td>2004-09-21</td><td>2014-01-20</td><td>0</td><td>5750</td><td>&quot;POLO&quot;</td><td>&quot;1&quot;</td><td>5</td><td>101</td><td>null</td><td>&quot;11&quot;</td><td>&quot;1&quot;</td><td>&quot;Sølv (også søl…</td><td>&quot;Bensin&quot;</td></tr></tbody></table></div>"
      ],
      "text/plain": [
       "shape: (2_692_915, 14)\n",
       "┌─────────┬────────────────┬────────────────────┬───────────────────┬───┬────────────┬──────┬───────────────────────────────────┬───────────┐\n",
       "│ id      ┆ tekn_reg_f_g_n ┆ tekn_reg_eier_dato ┆ tekn_aksler_drift ┆ … ┆ tekn_farge ┆ kode ┆ farge_navn                        ┆ navn      │\n",
       "│ ---     ┆ ---            ┆ ---                ┆ ---               ┆   ┆ ---        ┆ ---  ┆ ---                               ┆ ---       │\n",
       "│ u32     ┆ date           ┆ date               ┆ i64               ┆   ┆ str        ┆ str  ┆ str                               ┆ str       │\n",
       "╞═════════╪════════════════╪════════════════════╪═══════════════════╪═══╪════════════╪══════╪═══════════════════════════════════╪═══════════╡\n",
       "│ 0       ┆ 2021-10-13     ┆ 2021-10-13         ┆ 2                 ┆ … ┆ 05         ┆ 2    ┆ Grå                               ┆ Diesel    │\n",
       "│ 1       ┆ 2020-01-29     ┆ 2020-01-29         ┆ 2                 ┆ … ┆ 06         ┆ 2    ┆ Svart (også blåsvart, grafitt mø… ┆ Diesel    │\n",
       "│ 12      ┆ 2014-12-18     ┆ 2023-05-02         ┆ 2                 ┆ … ┆ 06         ┆ 2    ┆ Svart (også blåsvart, grafitt mø… ┆ Diesel    │\n",
       "│ 23      ┆ 2021-10-26     ┆ 2021-10-26         ┆ 2                 ┆ … ┆ 09         ┆ 2    ┆ Gul (også oker, sennep, elfenben… ┆ Diesel    │\n",
       "│ 28      ┆ 2015-08-10     ┆ 2015-08-10         ┆ 1                 ┆ … ┆ 05         ┆ 5    ┆ Grå                               ┆ Elektrisk │\n",
       "│ …       ┆ …              ┆ …                  ┆ …                 ┆ … ┆ …          ┆ …    ┆ …                                 ┆ …         │\n",
       "│ 2692880 ┆ 2020-09-01     ┆ 2024-02-01         ┆ 2                 ┆ … ┆ 06         ┆ 5,5  ┆ Svart (også blåsvart, grafitt mø… ┆ null      │\n",
       "│ 2692886 ┆ 2021-08-09     ┆ 2021-08-09         ┆ 1                 ┆ … ┆ 03         ┆ 2    ┆ Blå                               ┆ Diesel    │\n",
       "│ 2692894 ┆ 2006-03-07     ┆ 2023-09-11         ┆ 0                 ┆ … ┆ 05         ┆ 2    ┆ Grå                               ┆ Diesel    │\n",
       "│ 2692902 ┆ 2021-08-19     ┆ 2021-08-19         ┆ 1                 ┆ … ┆ 09         ┆ 2    ┆ Gul (også oker, sennep, elfenben… ┆ Diesel    │\n",
       "│ 2692914 ┆ 2004-09-21     ┆ 2014-01-20         ┆ 0                 ┆ … ┆ 11         ┆ 1    ┆ Sølv (også sølv metallic)         ┆ Bensin    │\n",
       "└─────────┴────────────────┴────────────────────┴───────────────────┴───┴────────────┴──────┴───────────────────────────────────┴───────────┘"
      ]
     },
     "execution_count": 25,
     "metadata": {},
     "output_type": "execute_result"
    }
   ],
   "source": [
    "df_semi = pl.read_parquet(\"C:/Users/gggem/Downloads/kjoretoyinfo_preppet.parquet\")\n",
    "df_semi"
   ]
  },
  {
   "cell_type": "code",
   "execution_count": 26,
   "id": "b69fcfec-c675-4561-b9c9-b66e2b9c335d",
   "metadata": {},
   "outputs": [
    {
     "data": {
      "text/html": [
       "<div><style>\n",
       ".dataframe > thead > tr,\n",
       ".dataframe > tbody > tr {\n",
       "  text-align: right;\n",
       "  white-space: pre-wrap;\n",
       "}\n",
       "</style>\n",
       "<small>shape: (88_413, 3)</small><table border=\"1\" class=\"dataframe\"><thead><tr><th>tekn_reg_f_g_n</th><th>tekn_drivstoff</th><th>tekn_sitteplasser_totalt</th></tr><tr><td>date</td><td>str</td><td>i64</td></tr></thead><tbody><tr><td>2022-11-11</td><td>&quot;5,5&quot;</td><td>5</td></tr><tr><td>2022-12-30</td><td>&quot;5,5&quot;</td><td>5</td></tr><tr><td>2022-06-27</td><td>&quot;5,5&quot;</td><td>5</td></tr><tr><td>2022-12-23</td><td>&quot;5&quot;</td><td>5</td></tr><tr><td>2022-01-24</td><td>&quot;5&quot;</td><td>5</td></tr><tr><td>&hellip;</td><td>&hellip;</td><td>&hellip;</td></tr><tr><td>2022-12-24</td><td>&quot;5,5&quot;</td><td>5</td></tr><tr><td>2022-03-22</td><td>&quot;5,5&quot;</td><td>5</td></tr><tr><td>2022-05-23</td><td>&quot;5,5&quot;</td><td>5</td></tr><tr><td>2022-03-17</td><td>&quot;5,5&quot;</td><td>5</td></tr><tr><td>2022-10-06</td><td>&quot;1,5,5&quot;</td><td>5</td></tr></tbody></table></div>"
      ],
      "text/plain": [
       "shape: (88_413, 3)\n",
       "┌────────────────┬────────────────┬──────────────────────────┐\n",
       "│ tekn_reg_f_g_n ┆ tekn_drivstoff ┆ tekn_sitteplasser_totalt │\n",
       "│ ---            ┆ ---            ┆ ---                      │\n",
       "│ date           ┆ str            ┆ i64                      │\n",
       "╞════════════════╪════════════════╪══════════════════════════╡\n",
       "│ 2022-11-11     ┆ 5,5            ┆ 5                        │\n",
       "│ 2022-12-30     ┆ 5,5            ┆ 5                        │\n",
       "│ 2022-06-27     ┆ 5,5            ┆ 5                        │\n",
       "│ 2022-12-23     ┆ 5              ┆ 5                        │\n",
       "│ 2022-01-24     ┆ 5              ┆ 5                        │\n",
       "│ …              ┆ …              ┆ …                        │\n",
       "│ 2022-12-24     ┆ 5,5            ┆ 5                        │\n",
       "│ 2022-03-22     ┆ 5,5            ┆ 5                        │\n",
       "│ 2022-05-23     ┆ 5,5            ┆ 5                        │\n",
       "│ 2022-03-17     ┆ 5,5            ┆ 5                        │\n",
       "│ 2022-10-06     ┆ 1,5,5          ┆ 5                        │\n",
       "└────────────────┴────────────────┴──────────────────────────┘"
      ]
     },
     "execution_count": 26,
     "metadata": {},
     "output_type": "execute_result"
    }
   ],
   "source": [
    "setter = df.select(\"tekn_reg_f_g_n\", \"tekn_drivstoff\", \"tekn_sitteplasser_totalt\").with_columns(\n",
    "    pl.col(\"tekn_reg_f_g_n\")\n",
    "    ).filter(\n",
    "        pl.col(\"tekn_reg_f_g_n\").dt.year() == 2022\n",
    "    ).filter(\n",
    "        pl.col(\"tekn_sitteplasser_totalt\").is_in([5])\n",
    "    ).collect()\n",
    "setter"
   ]
  },
  {
   "cell_type": "code",
   "execution_count": 27,
   "id": "9568ecba-ce7d-42d5-a697-e1d9a8e70b96",
   "metadata": {},
   "outputs": [
    {
     "data": {
      "text/plain": [
       "59015"
      ]
     },
     "execution_count": 27,
     "metadata": {},
     "output_type": "execute_result"
    }
   ],
   "source": [
    "minus_elbiler = 88413 - 29398\n",
    "minus_elbiler"
   ]
  },
  {
   "cell_type": "code",
   "execution_count": 28,
   "id": "981771ad-9bc7-440a-a7c2-acaea6b8859d",
   "metadata": {},
   "outputs": [
    {
     "data": {
      "text/plain": [
       "49.81445395238499"
      ]
     },
     "execution_count": 28,
     "metadata": {},
     "output_type": "execute_result"
    }
   ],
   "source": [
    "prosentandel_elbiler = (29398 / 59015) * 100\n",
    "prosentandel_elbiler"
   ]
  },
  {
   "cell_type": "code",
   "execution_count": 49,
   "id": "e0de4015-f525-4935-a78c-de341f045aa4",
   "metadata": {},
   "outputs": [
    {
     "data": {
      "text/html": [
       "<div><style>\n",
       ".dataframe > thead > tr,\n",
       ".dataframe > tbody > tr {\n",
       "  text-align: right;\n",
       "  white-space: pre-wrap;\n",
       "}\n",
       "</style>\n",
       "<small>shape: (44_943, 3)</small><table border=\"1\" class=\"dataframe\"><thead><tr><th>tekn_reg_f_g_n</th><th>tekn_modell</th><th>count</th></tr><tr><td>date</td><td>str</td><td>u32</td></tr></thead><tbody><tr><td>2022-12-29</td><td>&quot;XC40&quot;</td><td>233</td></tr><tr><td>2022-12-30</td><td>&quot;XC40&quot;</td><td>206</td></tr><tr><td>2022-06-22</td><td>&quot;Model Y&quot;</td><td>203</td></tr><tr><td>2022-12-19</td><td>&quot;Model Y&quot;</td><td>172</td></tr><tr><td>2022-06-23</td><td>&quot;Model Y&quot;</td><td>167</td></tr><tr><td>&hellip;</td><td>&hellip;</td><td>&hellip;</td></tr><tr><td>2022-03-17</td><td>&quot;SXMP400 Transp…</td><td>1</td></tr><tr><td>2022-04-05</td><td>&quot;1198/1198S&quot;</td><td>1</td></tr><tr><td>2022-06-22</td><td>&quot;CITYCOCO&quot;</td><td>1</td></tr><tr><td>2022-04-11</td><td>&quot;Citroen Xantia…</td><td>1</td></tr><tr><td>2022-12-24</td><td>&quot;e-tron Sportba…</td><td>1</td></tr></tbody></table></div>"
      ],
      "text/plain": [
       "shape: (44_943, 3)\n",
       "┌────────────────┬──────────────────────────┬───────┐\n",
       "│ tekn_reg_f_g_n ┆ tekn_modell              ┆ count │\n",
       "│ ---            ┆ ---                      ┆ ---   │\n",
       "│ date           ┆ str                      ┆ u32   │\n",
       "╞════════════════╪══════════════════════════╪═══════╡\n",
       "│ 2022-12-29     ┆ XC40                     ┆ 233   │\n",
       "│ 2022-12-30     ┆ XC40                     ┆ 206   │\n",
       "│ 2022-06-22     ┆ Model Y                  ┆ 203   │\n",
       "│ 2022-12-19     ┆ Model Y                  ┆ 172   │\n",
       "│ 2022-06-23     ┆ Model Y                  ┆ 167   │\n",
       "│ …              ┆ …                        ┆ …     │\n",
       "│ 2022-03-17     ┆ SXMP400 Transporter Lite ┆ 1     │\n",
       "│ 2022-04-05     ┆ 1198/1198S               ┆ 1     │\n",
       "│ 2022-06-22     ┆ CITYCOCO                 ┆ 1     │\n",
       "│ 2022-04-11     ┆ Citroen Xantia V6 Activa ┆ 1     │\n",
       "│ 2022-12-24     ┆ e-tron Sportback 55      ┆ 1     │\n",
       "└────────────────┴──────────────────────────┴───────┘"
      ]
     },
     "execution_count": 49,
     "metadata": {},
     "output_type": "execute_result"
    }
   ],
   "source": [
    "df_semi.filter(\n",
    "    pl.col(\"tekn_reg_f_g_n\").dt.year() == 2022,\n",
    ").group_by(\n",
    "    \"tekn_reg_f_g_n\", \"tekn_modell\"\n",
    ").agg(\n",
    "        pl.col(\"tekn_modell\").count().alias(\"count\")\n",
    ").sort(\"count\", descending=True).drop_nulls()\n",
    "\n",
    "    "
   ]
  },
  {
   "cell_type": "code",
   "execution_count": 8,
   "id": "039c5076-715b-47a5-a1bc-b4b429126491",
   "metadata": {},
   "outputs": [
    {
     "data": {
      "text/html": [
       "<div><style>\n",
       ".dataframe > thead > tr,\n",
       ".dataframe > tbody > tr {\n",
       "  text-align: right;\n",
       "  white-space: pre-wrap;\n",
       "}\n",
       "</style>\n",
       "<small>shape: (70, 3)</small><table border=\"1\" class=\"dataframe\"><thead><tr><th>tekn_reg_f_g_n</th><th>tekn_farge</th><th>id</th></tr><tr><td>date</td><td>str</td><td>u32</td></tr></thead><tbody><tr><td>2022-05-12</td><td>&quot;09&quot;</td><td>378226</td></tr><tr><td>2022-05-24</td><td>&quot;09&quot;</td><td>391137</td></tr><tr><td>2022-05-11</td><td>&quot;09&quot;</td><td>461081</td></tr><tr><td>2022-05-23</td><td>&quot;09&quot;</td><td>978068</td></tr><tr><td>2022-05-16</td><td>&quot;09&quot;</td><td>1015180</td></tr><tr><td>&hellip;</td><td>&hellip;</td><td>&hellip;</td></tr><tr><td>2022-05-16</td><td>&quot;09&quot;</td><td>1477108</td></tr><tr><td>2022-05-25</td><td>&quot;09&quot;</td><td>1838400</td></tr><tr><td>2022-05-25</td><td>&quot;09&quot;</td><td>1904626</td></tr><tr><td>2022-05-19</td><td>&quot;09&quot;</td><td>2103471</td></tr><tr><td>2022-05-23</td><td>&quot;09&quot;</td><td>2323095</td></tr></tbody></table></div>"
      ],
      "text/plain": [
       "shape: (70, 3)\n",
       "┌────────────────┬────────────┬─────────┐\n",
       "│ tekn_reg_f_g_n ┆ tekn_farge ┆ id      │\n",
       "│ ---            ┆ ---        ┆ ---     │\n",
       "│ date           ┆ str        ┆ u32     │\n",
       "╞════════════════╪════════════╪═════════╡\n",
       "│ 2022-05-12     ┆ 09         ┆ 378226  │\n",
       "│ 2022-05-24     ┆ 09         ┆ 391137  │\n",
       "│ 2022-05-11     ┆ 09         ┆ 461081  │\n",
       "│ 2022-05-23     ┆ 09         ┆ 978068  │\n",
       "│ 2022-05-16     ┆ 09         ┆ 1015180 │\n",
       "│ …              ┆ …          ┆ …       │\n",
       "│ 2022-05-16     ┆ 09         ┆ 1477108 │\n",
       "│ 2022-05-25     ┆ 09         ┆ 1838400 │\n",
       "│ 2022-05-25     ┆ 09         ┆ 1904626 │\n",
       "│ 2022-05-19     ┆ 09         ┆ 2103471 │\n",
       "│ 2022-05-23     ┆ 09         ┆ 2323095 │\n",
       "└────────────────┴────────────┴─────────┘"
      ]
     },
     "execution_count": 8,
     "metadata": {},
     "output_type": "execute_result"
    }
   ],
   "source": [
    "setter = df.select(\"tekn_reg_f_g_n\", \"tekn_farge\", \"id\").with_columns(\n",
    "    pl.col(\"tekn_reg_f_g_n\")\n",
    "    ).filter(\n",
    "        pl.col(\"tekn_reg_f_g_n\").dt.month() == 5\n",
    "    ).filter(\n",
    "        pl.col(\"tekn_reg_f_g_n\").dt.year() == 2022\n",
    "    ).filter(\n",
    "        pl.col(\"tekn_farge\").is_in([\"09\"])\n",
    "    ).collect()\n",
    "setter"
   ]
  },
  {
   "cell_type": "code",
   "execution_count": 33,
   "id": "8052316b-bddf-488f-a4fb-00a3dc9c2d41",
   "metadata": {},
   "outputs": [
    {
     "data": {
      "text/html": [
       "<div><style>\n",
       ".dataframe > thead > tr,\n",
       ".dataframe > tbody > tr {\n",
       "  text-align: right;\n",
       "  white-space: pre-wrap;\n",
       "}\n",
       "</style>\n",
       "<small>shape: (599_836, 14)</small><table border=\"1\" class=\"dataframe\"><thead><tr><th>id</th><th>tekn_reg_f_g_n</th><th>tekn_reg_eier_dato</th><th>tekn_aksler_drift</th><th>tekn_merke</th><th>tekn_modell</th><th>tekn_drivstoff</th><th>tekn_sitteplasser_totalt</th><th>tekn_kjtgrp</th><th>tekn_neste_pkk</th><th>tekn_farge</th><th>kode</th><th>farge_navn</th><th>navn</th></tr><tr><td>u32</td><td>date</td><td>date</td><td>i64</td><td>i64</td><td>str</td><td>str</td><td>i64</td><td>i64</td><td>date</td><td>str</td><td>str</td><td>str</td><td>str</td></tr></thead><tbody><tr><td>12</td><td>2014-12-18</td><td>2023-05-02</td><td>2</td><td>5480</td><td>&quot;RAV4&quot;</td><td>&quot;2&quot;</td><td>5</td><td>101</td><td>2024-06-30</td><td>&quot;06&quot;</td><td>&quot;2&quot;</td><td>&quot;Svart (også bl…</td><td>&quot;Diesel&quot;</td></tr><tr><td>49</td><td>2016-09-15</td><td>2022-06-10</td><td>2</td><td>8380</td><td>&quot;S-Cross&quot;</td><td>&quot;1&quot;</td><td>5</td><td>101</td><td>2024-04-03</td><td>&quot;06&quot;</td><td>&quot;1&quot;</td><td>&quot;Svart (også bl…</td><td>&quot;Bensin&quot;</td></tr><tr><td>58</td><td>2021-02-22</td><td>2021-10-18</td><td>2</td><td>4360</td><td>&quot;Model 3&quot;</td><td>&quot;5,5&quot;</td><td>5</td><td>101</td><td>2025-02-22</td><td>&quot;05&quot;</td><td>&quot;5,5&quot;</td><td>&quot;Grå&quot;</td><td>null</td></tr><tr><td>95</td><td>2010-03-12</td><td>2023-08-18</td><td>2</td><td>2600</td><td>&quot;KUGA&quot;</td><td>&quot;1&quot;</td><td>5</td><td>101</td><td>2023-09-10</td><td>&quot;05&quot;</td><td>&quot;1&quot;</td><td>&quot;Grå&quot;</td><td>&quot;Bensin&quot;</td></tr><tr><td>153</td><td>2022-11-11</td><td>2022-11-11</td><td>2</td><td>5750</td><td>&quot;ID.4 GTX 220 K…</td><td>&quot;5,5&quot;</td><td>5</td><td>101</td><td>2026-11-11</td><td>&quot;01&quot;</td><td>&quot;5,5&quot;</td><td>&quot;Hvit (også ant…</td><td>null</td></tr><tr><td>&hellip;</td><td>&hellip;</td><td>&hellip;</td><td>&hellip;</td><td>&hellip;</td><td>&hellip;</td><td>&hellip;</td><td>&hellip;</td><td>&hellip;</td><td>&hellip;</td><td>&hellip;</td><td>&hellip;</td><td>&hellip;</td><td>&hellip;</td></tr><tr><td>2692751</td><td>2007-03-30</td><td>2014-12-15</td><td>2</td><td>7740</td><td>&quot;CR-V&quot;</td><td>&quot;1&quot;</td><td>5</td><td>101</td><td>2025-03-06</td><td>&quot;11&quot;</td><td>&quot;1&quot;</td><td>&quot;Sølv (også søl…</td><td>&quot;Bensin&quot;</td></tr><tr><td>2692806</td><td>2017-01-06</td><td>2020-04-28</td><td>2</td><td>8380</td><td>&quot;S-Cross&quot;</td><td>&quot;1&quot;</td><td>5</td><td>101</td><td>2025-09-22</td><td>&quot;05&quot;</td><td>&quot;1&quot;</td><td>&quot;Grå&quot;</td><td>&quot;Bensin&quot;</td></tr><tr><td>2692839</td><td>2014-12-29</td><td>2021-02-11</td><td>2</td><td>3930</td><td>&quot;MAZDA CX-5&quot;</td><td>&quot;2&quot;</td><td>5</td><td>101</td><td>2025-11-25</td><td>&quot;06&quot;</td><td>&quot;2&quot;</td><td>&quot;Svart (også bl…</td><td>&quot;Diesel&quot;</td></tr><tr><td>2692867</td><td>2023-04-20</td><td>2023-04-20</td><td>2</td><td>2001</td><td>&quot;NISSAN ARIYA&quot;</td><td>&quot;5&quot;</td><td>5</td><td>101</td><td>2027-04-20</td><td>&quot;02&quot;</td><td>&quot;5&quot;</td><td>&quot;Rød (også burg…</td><td>&quot;Elektrisk&quot;</td></tr><tr><td>2692880</td><td>2020-09-01</td><td>2024-02-01</td><td>2</td><td>4360</td><td>&quot;Model 3&quot;</td><td>&quot;5,5&quot;</td><td>5</td><td>101</td><td>2024-09-01</td><td>&quot;06&quot;</td><td>&quot;5,5&quot;</td><td>&quot;Svart (også bl…</td><td>null</td></tr></tbody></table></div>"
      ],
      "text/plain": [
       "shape: (599_836, 14)\n",
       "┌─────────┬────────────────┬────────────────────┬───────────────────┬───┬────────────┬──────┬───────────────────────────────────┬───────────┐\n",
       "│ id      ┆ tekn_reg_f_g_n ┆ tekn_reg_eier_dato ┆ tekn_aksler_drift ┆ … ┆ tekn_farge ┆ kode ┆ farge_navn                        ┆ navn      │\n",
       "│ ---     ┆ ---            ┆ ---                ┆ ---               ┆   ┆ ---        ┆ ---  ┆ ---                               ┆ ---       │\n",
       "│ u32     ┆ date           ┆ date               ┆ i64               ┆   ┆ str        ┆ str  ┆ str                               ┆ str       │\n",
       "╞═════════╪════════════════╪════════════════════╪═══════════════════╪═══╪════════════╪══════╪═══════════════════════════════════╪═══════════╡\n",
       "│ 12      ┆ 2014-12-18     ┆ 2023-05-02         ┆ 2                 ┆ … ┆ 06         ┆ 2    ┆ Svart (også blåsvart, grafitt mø… ┆ Diesel    │\n",
       "│ 49      ┆ 2016-09-15     ┆ 2022-06-10         ┆ 2                 ┆ … ┆ 06         ┆ 1    ┆ Svart (også blåsvart, grafitt mø… ┆ Bensin    │\n",
       "│ 58      ┆ 2021-02-22     ┆ 2021-10-18         ┆ 2                 ┆ … ┆ 05         ┆ 5,5  ┆ Grå                               ┆ null      │\n",
       "│ 95      ┆ 2010-03-12     ┆ 2023-08-18         ┆ 2                 ┆ … ┆ 05         ┆ 1    ┆ Grå                               ┆ Bensin    │\n",
       "│ 153     ┆ 2022-11-11     ┆ 2022-11-11         ┆ 2                 ┆ … ┆ 01         ┆ 5,5  ┆ Hvit (også antikkhvit, offwhite)  ┆ null      │\n",
       "│ …       ┆ …              ┆ …                  ┆ …                 ┆ … ┆ …          ┆ …    ┆ …                                 ┆ …         │\n",
       "│ 2692751 ┆ 2007-03-30     ┆ 2014-12-15         ┆ 2                 ┆ … ┆ 11         ┆ 1    ┆ Sølv (også sølv metallic)         ┆ Bensin    │\n",
       "│ 2692806 ┆ 2017-01-06     ┆ 2020-04-28         ┆ 2                 ┆ … ┆ 05         ┆ 1    ┆ Grå                               ┆ Bensin    │\n",
       "│ 2692839 ┆ 2014-12-29     ┆ 2021-02-11         ┆ 2                 ┆ … ┆ 06         ┆ 2    ┆ Svart (også blåsvart, grafitt mø… ┆ Diesel    │\n",
       "│ 2692867 ┆ 2023-04-20     ┆ 2023-04-20         ┆ 2                 ┆ … ┆ 02         ┆ 5    ┆ Rød (også burgunder)              ┆ Elektrisk │\n",
       "│ 2692880 ┆ 2020-09-01     ┆ 2024-02-01         ┆ 2                 ┆ … ┆ 06         ┆ 5,5  ┆ Svart (også blåsvart, grafitt mø… ┆ null      │\n",
       "└─────────┴────────────────┴────────────────────┴───────────────────┴───┴────────────┴──────┴───────────────────────────────────┴───────────┘"
      ]
     },
     "execution_count": 33,
     "metadata": {},
     "output_type": "execute_result"
    }
   ],
   "source": [
    "lol = df_semi.filter(\n",
    "    (pl.col(\"tekn_sitteplasser_totalt\") == 5),\n",
    "    (pl.col(\"tekn_aksler_drift\") == 2)\n",
    ")\n",
    "lol"
   ]
  },
  {
   "cell_type": "code",
   "execution_count": 42,
   "id": "59479a4d-e4e1-4569-8b4b-5a4c22d22d4f",
   "metadata": {},
   "outputs": [
    {
     "data": {
      "text/html": [
       "<div><style>\n",
       ".dataframe > thead > tr,\n",
       ".dataframe > tbody > tr {\n",
       "  text-align: right;\n",
       "  white-space: pre-wrap;\n",
       "}\n",
       "</style>\n",
       "<small>shape: (9, 2)</small><table border=\"1\" class=\"dataframe\"><thead><tr><th>tekn_reg_f_g_n</th><th>count</th></tr><tr><td>date</td><td>u32</td></tr></thead><tbody><tr><td>2022-12-30</td><td>2708</td></tr><tr><td>2022-12-29</td><td>2381</td></tr><tr><td>2022-12-28</td><td>2159</td></tr><tr><td>2022-12-27</td><td>1758</td></tr><tr><td>2022-12-22</td><td>1615</td></tr><tr><td>2022-12-21</td><td>1535</td></tr><tr><td>2022-12-20</td><td>1278</td></tr><tr><td>2022-12-23</td><td>1211</td></tr><tr><td>2022-12-19</td><td>1124</td></tr></tbody></table></div>"
      ],
      "text/plain": [
       "shape: (9, 2)\n",
       "┌────────────────┬───────┐\n",
       "│ tekn_reg_f_g_n ┆ count │\n",
       "│ ---            ┆ ---   │\n",
       "│ date           ┆ u32   │\n",
       "╞════════════════╪═══════╡\n",
       "│ 2022-12-30     ┆ 2708  │\n",
       "│ 2022-12-29     ┆ 2381  │\n",
       "│ 2022-12-28     ┆ 2159  │\n",
       "│ 2022-12-27     ┆ 1758  │\n",
       "│ 2022-12-22     ┆ 1615  │\n",
       "│ 2022-12-21     ┆ 1535  │\n",
       "│ 2022-12-20     ┆ 1278  │\n",
       "│ 2022-12-23     ┆ 1211  │\n",
       "│ 2022-12-19     ┆ 1124  │\n",
       "└────────────────┴───────┘"
      ]
     },
     "execution_count": 42,
     "metadata": {},
     "output_type": "execute_result"
    }
   ],
   "source": [
    "df_semi.filter(\n",
    "    pl.col(\"tekn_reg_f_g_n\").dt.year() == 2022,\n",
    "    pl.col(\"tekn_reg_f_g_n\").dt.month()\n",
    ").group_by(\n",
    "    \"tekn_reg_f_g_n\"\n",
    ").agg(\n",
    "        pl.col(\"tekn_reg_f_g_n\").count().alias(\"count\")\n",
    ").sort(\"count\", descending=True).head(9)\n",
    "\n",
    "    "
   ]
  },
  {
   "cell_type": "code",
   "execution_count": 43,
   "id": "3c81c7a5-584f-4fa2-8f3e-49e0fc725653",
   "metadata": {},
   "outputs": [
    {
     "data": {
      "text/html": [
       "<div><style>\n",
       ".dataframe > thead > tr,\n",
       ".dataframe > tbody > tr {\n",
       "  text-align: right;\n",
       "  white-space: pre-wrap;\n",
       "}\n",
       "</style>\n",
       "<small>shape: (109_495, 3)</small><table border=\"1\" class=\"dataframe\"><thead><tr><th>tekn_reg_f_g_n</th><th>tekn_farge</th><th>første_registert_farge</th></tr><tr><td>date</td><td>str</td><td>u32</td></tr></thead><tbody><tr><td>2000-01-01</td><td>&quot;06&quot;</td><td>2</td></tr><tr><td>2000-01-01</td><td>&quot;&quot;</td><td>2</td></tr><tr><td>2000-01-01</td><td>&quot;01&quot;</td><td>6</td></tr><tr><td>2000-01-01</td><td>&quot;04&quot;</td><td>1</td></tr><tr><td>2000-01-03</td><td>&quot;05&quot;</td><td>35</td></tr><tr><td>&hellip;</td><td>&hellip;</td><td>&hellip;</td></tr><tr><td>2024-02-10</td><td>&quot;06&quot;</td><td>3</td></tr><tr><td>2024-02-10</td><td>&quot;09&quot;</td><td>1</td></tr><tr><td>2024-02-10</td><td>&quot;10&quot;</td><td>1</td></tr><tr><td>2024-02-11</td><td>&quot;03&quot;</td><td>1</td></tr><tr><td>2024-02-11</td><td>&quot;01&quot;</td><td>2</td></tr></tbody></table></div>"
      ],
      "text/plain": [
       "shape: (109_495, 3)\n",
       "┌────────────────┬────────────┬────────────────────────┐\n",
       "│ tekn_reg_f_g_n ┆ tekn_farge ┆ første_registert_farge │\n",
       "│ ---            ┆ ---        ┆ ---                    │\n",
       "│ date           ┆ str        ┆ u32                    │\n",
       "╞════════════════╪════════════╪════════════════════════╡\n",
       "│ 2000-01-01     ┆ 06         ┆ 2                      │\n",
       "│ 2000-01-01     ┆            ┆ 2                      │\n",
       "│ 2000-01-01     ┆ 01         ┆ 6                      │\n",
       "│ 2000-01-01     ┆ 04         ┆ 1                      │\n",
       "│ 2000-01-03     ┆ 05         ┆ 35                     │\n",
       "│ …              ┆ …          ┆ …                      │\n",
       "│ 2024-02-10     ┆ 06         ┆ 3                      │\n",
       "│ 2024-02-10     ┆ 09         ┆ 1                      │\n",
       "│ 2024-02-10     ┆ 10         ┆ 1                      │\n",
       "│ 2024-02-11     ┆ 03         ┆ 1                      │\n",
       "│ 2024-02-11     ┆ 01         ┆ 2                      │\n",
       "└────────────────┴────────────┴────────────────────────┘"
      ]
     },
     "execution_count": 43,
     "metadata": {},
     "output_type": "execute_result"
    }
   ],
   "source": [
    "df_semi.group_by(\"tekn_reg_f_g_n\",\"tekn_farge\").agg(\n",
    "    pl.col(\"tekn_farge\").count().alias(\"første_registert_farge\")\n",
    ").sort(\"tekn_reg_f_g_n\", descending=False)"
   ]
  },
  {
   "cell_type": "code",
   "execution_count": 44,
   "id": "7adf1000-b13f-463b-ab86-7fceeecfc67e",
   "metadata": {},
   "outputs": [],
   "source": [
    "tonulltoto = df_semi.filter(\n",
    "    (pl.col(\"tekn_reg_eier_dato\").dt.year() == 2022)\n",
    ")"
   ]
  },
  {
   "cell_type": "code",
   "execution_count": 45,
   "id": "a9373f39-cfb6-4e14-9c4f-ce8ddc51240a",
   "metadata": {},
   "outputs": [
    {
     "data": {
      "text/html": [
       "<div><style>\n",
       ".dataframe > thead > tr,\n",
       ".dataframe > tbody > tr {\n",
       "  text-align: right;\n",
       "  white-space: pre-wrap;\n",
       "}\n",
       "</style>\n",
       "<small>shape: (13_884, 4)</small><table border=\"1\" class=\"dataframe\"><thead><tr><th>tekn_reg_f_g_n</th><th>tekn_kjtgrp</th><th>tekn_farge</th><th>count</th></tr><tr><td>date</td><td>i64</td><td>str</td><td>u32</td></tr></thead><tbody><tr><td>2022-12-30</td><td>101</td><td>&quot;06&quot;</td><td>715</td></tr><tr><td>2022-12-30</td><td>101</td><td>&quot;05&quot;</td><td>683</td></tr><tr><td>2022-12-29</td><td>101</td><td>&quot;06&quot;</td><td>629</td></tr><tr><td>2022-12-29</td><td>101</td><td>&quot;05&quot;</td><td>589</td></tr><tr><td>2022-12-28</td><td>101</td><td>&quot;05&quot;</td><td>540</td></tr><tr><td>&hellip;</td><td>&hellip;</td><td>&hellip;</td><td>&hellip;</td></tr><tr><td>2022-02-04</td><td>630</td><td>&quot;02&quot;</td><td>1</td></tr><tr><td>2022-03-07</td><td>360</td><td>&quot;03&quot;</td><td>1</td></tr><tr><td>2022-02-02</td><td>365</td><td>&quot;01&quot;</td><td>1</td></tr><tr><td>2022-09-16</td><td>610</td><td>&quot;09&quot;</td><td>1</td></tr><tr><td>2022-03-17</td><td>316</td><td>&quot;01,06&quot;</td><td>1</td></tr></tbody></table></div>"
      ],
      "text/plain": [
       "shape: (13_884, 4)\n",
       "┌────────────────┬─────────────┬────────────┬───────┐\n",
       "│ tekn_reg_f_g_n ┆ tekn_kjtgrp ┆ tekn_farge ┆ count │\n",
       "│ ---            ┆ ---         ┆ ---        ┆ ---   │\n",
       "│ date           ┆ i64         ┆ str        ┆ u32   │\n",
       "╞════════════════╪═════════════╪════════════╪═══════╡\n",
       "│ 2022-12-30     ┆ 101         ┆ 06         ┆ 715   │\n",
       "│ 2022-12-30     ┆ 101         ┆ 05         ┆ 683   │\n",
       "│ 2022-12-29     ┆ 101         ┆ 06         ┆ 629   │\n",
       "│ 2022-12-29     ┆ 101         ┆ 05         ┆ 589   │\n",
       "│ 2022-12-28     ┆ 101         ┆ 05         ┆ 540   │\n",
       "│ …              ┆ …           ┆ …          ┆ …     │\n",
       "│ 2022-02-04     ┆ 630         ┆ 02         ┆ 1     │\n",
       "│ 2022-03-07     ┆ 360         ┆ 03         ┆ 1     │\n",
       "│ 2022-02-02     ┆ 365         ┆ 01         ┆ 1     │\n",
       "│ 2022-09-16     ┆ 610         ┆ 09         ┆ 1     │\n",
       "│ 2022-03-17     ┆ 316         ┆ 01,06      ┆ 1     │\n",
       "└────────────────┴─────────────┴────────────┴───────┘"
      ]
     },
     "execution_count": 45,
     "metadata": {},
     "output_type": "execute_result"
    }
   ],
   "source": [
    "df_semi.filter(\n",
    "    pl.col(\"tekn_reg_f_g_n\").dt.year() == 2022,\n",
    ").group_by(\n",
    "    \"tekn_reg_f_g_n\", \"tekn_kjtgrp\", \"tekn_farge\"\n",
    ").agg(\n",
    "        pl.col(\"tekn_farge\").count().alias(\"count\")\n",
    ").sort(\"count\", descending=True)\n",
    "\n",
    "    "
   ]
  },
  {
   "cell_type": "code",
   "execution_count": 46,
   "id": "d30c7b2e-08f7-4aba-8c4c-2b7da0163613",
   "metadata": {},
   "outputs": [
    {
     "data": {
      "text/html": [
       "<div><style>\n",
       ".dataframe > thead > tr,\n",
       ".dataframe > tbody > tr {\n",
       "  text-align: right;\n",
       "  white-space: pre-wrap;\n",
       "}\n",
       "</style>\n",
       "<small>shape: (5, 3)</small><table border=\"1\" class=\"dataframe\"><thead><tr><th>tekn_reg_eier_dato</th><th>tekn_merke</th><th>merke</th></tr><tr><td>date</td><td>i64</td><td>u32</td></tr></thead><tbody><tr><td>2022-12-29</td><td>5800</td><td>461</td></tr><tr><td>2022-12-30</td><td>5800</td><td>378</td></tr><tr><td>2022-12-28</td><td>5750</td><td>311</td></tr><tr><td>2022-12-19</td><td>5750</td><td>273</td></tr><tr><td>2022-12-27</td><td>5750</td><td>273</td></tr></tbody></table></div>"
      ],
      "text/plain": [
       "shape: (5, 3)\n",
       "┌────────────────────┬────────────┬───────┐\n",
       "│ tekn_reg_eier_dato ┆ tekn_merke ┆ merke │\n",
       "│ ---                ┆ ---        ┆ ---   │\n",
       "│ date               ┆ i64        ┆ u32   │\n",
       "╞════════════════════╪════════════╪═══════╡\n",
       "│ 2022-12-29         ┆ 5800       ┆ 461   │\n",
       "│ 2022-12-30         ┆ 5800       ┆ 378   │\n",
       "│ 2022-12-28         ┆ 5750       ┆ 311   │\n",
       "│ 2022-12-19         ┆ 5750       ┆ 273   │\n",
       "│ 2022-12-27         ┆ 5750       ┆ 273   │\n",
       "└────────────────────┴────────────┴───────┘"
      ]
     },
     "execution_count": 46,
     "metadata": {},
     "output_type": "execute_result"
    }
   ],
   "source": [
    "df_semi.filter(\n",
    "    pl.col(\"tekn_reg_eier_dato\").dt.year() == 2022\n",
    ").group_by(\n",
    "    \"tekn_reg_eier_dato\", \"tekn_merke\"\n",
    ").agg(\n",
    "        pl.col(\"tekn_merke\").count().alias(\"merke\")\n",
    ").sort(\"merke\", descending=True).head(5)\n",
    "\n",
    "    "
   ]
  },
  {
   "cell_type": "code",
   "execution_count": 47,
   "id": "6bf57263-5a58-48bf-bf1f-f2c20586c1c1",
   "metadata": {},
   "outputs": [
    {
     "data": {
      "text/html": [
       "<div><style>\n",
       ".dataframe > thead > tr,\n",
       ".dataframe > tbody > tr {\n",
       "  text-align: right;\n",
       "  white-space: pre-wrap;\n",
       "}\n",
       "</style>\n",
       "<small>shape: (5, 4)</small><table border=\"1\" class=\"dataframe\"><thead><tr><th>tekn_reg_f_g_n</th><th>tekn_merke</th><th>tekn_farge</th><th>farge</th></tr><tr><td>date</td><td>i64</td><td>str</td><td>u32</td></tr></thead><tbody><tr><td>2022-12-29</td><td>5800</td><td>&quot;06&quot;</td><td>159</td></tr><tr><td>2022-12-30</td><td>5800</td><td>&quot;06&quot;</td><td>143</td></tr><tr><td>2022-06-22</td><td>4360</td><td>&quot;01&quot;</td><td>117</td></tr><tr><td>2022-12-29</td><td>5800</td><td>&quot;05&quot;</td><td>113</td></tr><tr><td>2022-12-19</td><td>4360</td><td>&quot;06&quot;</td><td>106</td></tr></tbody></table></div>"
      ],
      "text/plain": [
       "shape: (5, 4)\n",
       "┌────────────────┬────────────┬────────────┬───────┐\n",
       "│ tekn_reg_f_g_n ┆ tekn_merke ┆ tekn_farge ┆ farge │\n",
       "│ ---            ┆ ---        ┆ ---        ┆ ---   │\n",
       "│ date           ┆ i64        ┆ str        ┆ u32   │\n",
       "╞════════════════╪════════════╪════════════╪═══════╡\n",
       "│ 2022-12-29     ┆ 5800       ┆ 06         ┆ 159   │\n",
       "│ 2022-12-30     ┆ 5800       ┆ 06         ┆ 143   │\n",
       "│ 2022-06-22     ┆ 4360       ┆ 01         ┆ 117   │\n",
       "│ 2022-12-29     ┆ 5800       ┆ 05         ┆ 113   │\n",
       "│ 2022-12-19     ┆ 4360       ┆ 06         ┆ 106   │\n",
       "└────────────────┴────────────┴────────────┴───────┘"
      ]
     },
     "execution_count": 47,
     "metadata": {},
     "output_type": "execute_result"
    }
   ],
   "source": [
    "df_semi.filter(\n",
    "    pl.col(\"tekn_reg_f_g_n\").dt.year() == 2022\n",
    ").group_by(\n",
    "    \"tekn_reg_f_g_n\", \"tekn_merke\", \"tekn_farge\"\n",
    ").agg(\n",
    "        pl.col(\"tekn_farge\").count().alias(\"farge\"),\n",
    ").sort(\"farge\", descending=True).head(5)\n",
    "\n",
    "    "
   ]
  },
  {
   "cell_type": "code",
   "execution_count": null,
   "id": "ce25aa59-7c7a-4885-8401-3fde2844b6a3",
   "metadata": {},
   "outputs": [],
   "source": []
  },
  {
   "cell_type": "code",
   "execution_count": null,
   "id": "ebb93216-4fb7-424a-b51a-c74655e41f30",
   "metadata": {},
   "outputs": [],
   "source": []
  }
 ],
 "metadata": {
  "kernelspec": {
   "display_name": "Python 3 (ipykernel)",
   "language": "python",
   "name": "python3"
  },
  "language_info": {
   "codemirror_mode": {
    "name": "ipython",
    "version": 3
   },
   "file_extension": ".py",
   "mimetype": "text/x-python",
   "name": "python",
   "nbconvert_exporter": "python",
   "pygments_lexer": "ipython3",
   "version": "3.10.0"
  }
 },
 "nbformat": 4,
 "nbformat_minor": 5
}
